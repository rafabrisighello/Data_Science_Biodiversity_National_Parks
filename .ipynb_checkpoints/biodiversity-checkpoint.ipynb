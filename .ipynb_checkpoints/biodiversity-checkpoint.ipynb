{
 "cells": [
  {
   "cell_type": "markdown",
   "metadata": {},
   "source": [
    "***"
   ]
  },
  {
   "cell_type": "markdown",
   "metadata": {},
   "source": [
    "# A Study on the Biodiversity of the National Parks"
   ]
  },
  {
   "cell_type": "markdown",
   "metadata": {},
   "source": [
    "![park](https://api.time.com/wp-content/uploads/2016/08/gettyimages-535829001.jpg?quality=85&w=800)"
   ]
  },
  {
   "cell_type": "markdown",
   "metadata": {},
   "source": [
    "***"
   ]
  },
  {
   "cell_type": "markdown",
   "metadata": {},
   "source": [
    "## Introduction"
   ]
  },
  {
   "cell_type": "markdown",
   "metadata": {},
   "source": [
    "This study aims at analyzing wldlife data from the national parks, investigating trends and drawing conclusions from the data provided. The main objective is to analyze trends focusing on the conservation statuses of the species.\n",
    "The study tries to answer the following initial questions:\n",
    "* Conservation Status: How well preserved are the species in National Parks? Are there any endangered species? Which kind of categories are the most vulnerable?\n",
    "* How strong is the correlation between the number of observations and the conservation status of the species? How well can we predict the conservation status by the number of observations made, taking into account the catrgory each species fall into?\n",
    "\n",
    "During the development of the study, other questions, not previously foreseen, may arise."
   ]
  },
  {
   "cell_type": "markdown",
   "metadata": {},
   "source": [
    "***"
   ]
  },
  {
   "cell_type": "markdown",
   "metadata": {},
   "source": [
    "## Package Import, Data Import, Cleaning and Table Joining"
   ]
  },
  {
   "cell_type": "code",
   "execution_count": 1,
   "metadata": {},
   "outputs": [],
   "source": [
    "import numpy as np\n",
    "import pandas as pd\n",
    "from matplotlib import pyplot as plt\n",
    "import seaborn as sns\n",
    "from scipy.stats import pearsonr"
   ]
  },
  {
   "cell_type": "code",
   "execution_count": 2,
   "metadata": {},
   "outputs": [],
   "source": [
    "obs_df = pd.read_csv('observations.csv')\n",
    "species_df = pd.read_csv('species_info.csv')"
   ]
  },
  {
   "cell_type": "code",
   "execution_count": 3,
   "metadata": {},
   "outputs": [
    {
     "name": "stdout",
     "output_type": "stream",
     "text": [
      "<class 'pandas.core.frame.DataFrame'>\n",
      "RangeIndex: 23296 entries, 0 to 23295\n",
      "Data columns (total 3 columns):\n",
      " #   Column           Non-Null Count  Dtype \n",
      "---  ------           --------------  ----- \n",
      " 0   scientific_name  23296 non-null  object\n",
      " 1   park_name        23296 non-null  object\n",
      " 2   observations     23296 non-null  int64 \n",
      "dtypes: int64(1), object(2)\n",
      "memory usage: 546.1+ KB\n"
     ]
    }
   ],
   "source": [
    "obs_df.info()"
   ]
  },
  {
   "cell_type": "code",
   "execution_count": 4,
   "metadata": {},
   "outputs": [
    {
     "data": {
      "text/html": [
       "<div>\n",
       "<style scoped>\n",
       "    .dataframe tbody tr th:only-of-type {\n",
       "        vertical-align: middle;\n",
       "    }\n",
       "\n",
       "    .dataframe tbody tr th {\n",
       "        vertical-align: top;\n",
       "    }\n",
       "\n",
       "    .dataframe thead th {\n",
       "        text-align: right;\n",
       "    }\n",
       "</style>\n",
       "<table border=\"1\" class=\"dataframe\">\n",
       "  <thead>\n",
       "    <tr style=\"text-align: right;\">\n",
       "      <th></th>\n",
       "      <th>scientific_name</th>\n",
       "      <th>park_name</th>\n",
       "      <th>observations</th>\n",
       "    </tr>\n",
       "  </thead>\n",
       "  <tbody>\n",
       "    <tr>\n",
       "      <th>0</th>\n",
       "      <td>Vicia benghalensis</td>\n",
       "      <td>Great Smoky Mountains National Park</td>\n",
       "      <td>68</td>\n",
       "    </tr>\n",
       "    <tr>\n",
       "      <th>1</th>\n",
       "      <td>Neovison vison</td>\n",
       "      <td>Great Smoky Mountains National Park</td>\n",
       "      <td>77</td>\n",
       "    </tr>\n",
       "    <tr>\n",
       "      <th>2</th>\n",
       "      <td>Prunus subcordata</td>\n",
       "      <td>Yosemite National Park</td>\n",
       "      <td>138</td>\n",
       "    </tr>\n",
       "    <tr>\n",
       "      <th>3</th>\n",
       "      <td>Abutilon theophrasti</td>\n",
       "      <td>Bryce National Park</td>\n",
       "      <td>84</td>\n",
       "    </tr>\n",
       "    <tr>\n",
       "      <th>4</th>\n",
       "      <td>Githopsis specularioides</td>\n",
       "      <td>Great Smoky Mountains National Park</td>\n",
       "      <td>85</td>\n",
       "    </tr>\n",
       "  </tbody>\n",
       "</table>\n",
       "</div>"
      ],
      "text/plain": [
       "            scientific_name                            park_name  observations\n",
       "0        Vicia benghalensis  Great Smoky Mountains National Park            68\n",
       "1            Neovison vison  Great Smoky Mountains National Park            77\n",
       "2         Prunus subcordata               Yosemite National Park           138\n",
       "3      Abutilon theophrasti                  Bryce National Park            84\n",
       "4  Githopsis specularioides  Great Smoky Mountains National Park            85"
      ]
     },
     "execution_count": 4,
     "metadata": {},
     "output_type": "execute_result"
    }
   ],
   "source": [
    "obs_df.head()"
   ]
  },
  {
   "cell_type": "code",
   "execution_count": 5,
   "metadata": {},
   "outputs": [
    {
     "data": {
      "text/html": [
       "<div>\n",
       "<style scoped>\n",
       "    .dataframe tbody tr th:only-of-type {\n",
       "        vertical-align: middle;\n",
       "    }\n",
       "\n",
       "    .dataframe tbody tr th {\n",
       "        vertical-align: top;\n",
       "    }\n",
       "\n",
       "    .dataframe thead th {\n",
       "        text-align: right;\n",
       "    }\n",
       "</style>\n",
       "<table border=\"1\" class=\"dataframe\">\n",
       "  <thead>\n",
       "    <tr style=\"text-align: right;\">\n",
       "      <th></th>\n",
       "      <th>category</th>\n",
       "      <th>scientific_name</th>\n",
       "      <th>common_names</th>\n",
       "      <th>conservation_status</th>\n",
       "    </tr>\n",
       "  </thead>\n",
       "  <tbody>\n",
       "    <tr>\n",
       "      <th>0</th>\n",
       "      <td>Mammal</td>\n",
       "      <td>Clethrionomys gapperi gapperi</td>\n",
       "      <td>Gapper's Red-Backed Vole</td>\n",
       "      <td>NaN</td>\n",
       "    </tr>\n",
       "    <tr>\n",
       "      <th>1</th>\n",
       "      <td>Mammal</td>\n",
       "      <td>Bos bison</td>\n",
       "      <td>American Bison, Bison</td>\n",
       "      <td>NaN</td>\n",
       "    </tr>\n",
       "    <tr>\n",
       "      <th>2</th>\n",
       "      <td>Mammal</td>\n",
       "      <td>Bos taurus</td>\n",
       "      <td>Aurochs, Aurochs, Domestic Cattle (Feral), Dom...</td>\n",
       "      <td>NaN</td>\n",
       "    </tr>\n",
       "    <tr>\n",
       "      <th>3</th>\n",
       "      <td>Mammal</td>\n",
       "      <td>Ovis aries</td>\n",
       "      <td>Domestic Sheep, Mouflon, Red Sheep, Sheep (Feral)</td>\n",
       "      <td>NaN</td>\n",
       "    </tr>\n",
       "    <tr>\n",
       "      <th>4</th>\n",
       "      <td>Mammal</td>\n",
       "      <td>Cervus elaphus</td>\n",
       "      <td>Wapiti Or Elk</td>\n",
       "      <td>NaN</td>\n",
       "    </tr>\n",
       "  </tbody>\n",
       "</table>\n",
       "</div>"
      ],
      "text/plain": [
       "  category                scientific_name  \\\n",
       "0   Mammal  Clethrionomys gapperi gapperi   \n",
       "1   Mammal                      Bos bison   \n",
       "2   Mammal                     Bos taurus   \n",
       "3   Mammal                     Ovis aries   \n",
       "4   Mammal                 Cervus elaphus   \n",
       "\n",
       "                                        common_names conservation_status  \n",
       "0                           Gapper's Red-Backed Vole                 NaN  \n",
       "1                              American Bison, Bison                 NaN  \n",
       "2  Aurochs, Aurochs, Domestic Cattle (Feral), Dom...                 NaN  \n",
       "3  Domestic Sheep, Mouflon, Red Sheep, Sheep (Feral)                 NaN  \n",
       "4                                      Wapiti Or Elk                 NaN  "
      ]
     },
     "execution_count": 5,
     "metadata": {},
     "output_type": "execute_result"
    }
   ],
   "source": [
    "species_df.head()"
   ]
  },
  {
   "cell_type": "code",
   "execution_count": 6,
   "metadata": {},
   "outputs": [
    {
     "name": "stdout",
     "output_type": "stream",
     "text": [
      "<class 'pandas.core.frame.DataFrame'>\n",
      "RangeIndex: 5824 entries, 0 to 5823\n",
      "Data columns (total 4 columns):\n",
      " #   Column               Non-Null Count  Dtype \n",
      "---  ------               --------------  ----- \n",
      " 0   category             5824 non-null   object\n",
      " 1   scientific_name      5824 non-null   object\n",
      " 2   common_names         5824 non-null   object\n",
      " 3   conservation_status  191 non-null    object\n",
      "dtypes: object(4)\n",
      "memory usage: 182.1+ KB\n"
     ]
    }
   ],
   "source": [
    "species_df.info()"
   ]
  },
  {
   "cell_type": "code",
   "execution_count": 7,
   "metadata": {},
   "outputs": [
    {
     "data": {
      "text/html": [
       "<div>\n",
       "<style scoped>\n",
       "    .dataframe tbody tr th:only-of-type {\n",
       "        vertical-align: middle;\n",
       "    }\n",
       "\n",
       "    .dataframe tbody tr th {\n",
       "        vertical-align: top;\n",
       "    }\n",
       "\n",
       "    .dataframe thead th {\n",
       "        text-align: right;\n",
       "    }\n",
       "</style>\n",
       "<table border=\"1\" class=\"dataframe\">\n",
       "  <thead>\n",
       "    <tr style=\"text-align: right;\">\n",
       "      <th></th>\n",
       "      <th>category</th>\n",
       "      <th>scientific_name</th>\n",
       "      <th>common_names</th>\n",
       "      <th>conservation_status</th>\n",
       "    </tr>\n",
       "  </thead>\n",
       "  <tbody>\n",
       "    <tr>\n",
       "      <th>0</th>\n",
       "      <td>Mammal</td>\n",
       "      <td>Clethrionomys gapperi gapperi</td>\n",
       "      <td>Gapper's Red-Backed Vole</td>\n",
       "      <td>No Concern</td>\n",
       "    </tr>\n",
       "    <tr>\n",
       "      <th>1</th>\n",
       "      <td>Mammal</td>\n",
       "      <td>Bos bison</td>\n",
       "      <td>American Bison, Bison</td>\n",
       "      <td>No Concern</td>\n",
       "    </tr>\n",
       "    <tr>\n",
       "      <th>2</th>\n",
       "      <td>Mammal</td>\n",
       "      <td>Bos taurus</td>\n",
       "      <td>Aurochs, Aurochs, Domestic Cattle (Feral), Dom...</td>\n",
       "      <td>No Concern</td>\n",
       "    </tr>\n",
       "    <tr>\n",
       "      <th>3</th>\n",
       "      <td>Mammal</td>\n",
       "      <td>Ovis aries</td>\n",
       "      <td>Domestic Sheep, Mouflon, Red Sheep, Sheep (Feral)</td>\n",
       "      <td>No Concern</td>\n",
       "    </tr>\n",
       "    <tr>\n",
       "      <th>4</th>\n",
       "      <td>Mammal</td>\n",
       "      <td>Cervus elaphus</td>\n",
       "      <td>Wapiti Or Elk</td>\n",
       "      <td>No Concern</td>\n",
       "    </tr>\n",
       "  </tbody>\n",
       "</table>\n",
       "</div>"
      ],
      "text/plain": [
       "  category                scientific_name  \\\n",
       "0   Mammal  Clethrionomys gapperi gapperi   \n",
       "1   Mammal                      Bos bison   \n",
       "2   Mammal                     Bos taurus   \n",
       "3   Mammal                     Ovis aries   \n",
       "4   Mammal                 Cervus elaphus   \n",
       "\n",
       "                                        common_names conservation_status  \n",
       "0                           Gapper's Red-Backed Vole          No Concern  \n",
       "1                              American Bison, Bison          No Concern  \n",
       "2  Aurochs, Aurochs, Domestic Cattle (Feral), Dom...          No Concern  \n",
       "3  Domestic Sheep, Mouflon, Red Sheep, Sheep (Feral)          No Concern  \n",
       "4                                      Wapiti Or Elk          No Concern  "
      ]
     },
     "execution_count": 7,
     "metadata": {},
     "output_type": "execute_result"
    }
   ],
   "source": [
    "species_df = species_df.fillna(value = {'conservation_status': 'No Concern'})\n",
    "species_df.head()"
   ]
  },
  {
   "cell_type": "code",
   "execution_count": 8,
   "metadata": {},
   "outputs": [
    {
     "name": "stdout",
     "output_type": "stream",
     "text": [
      "conservation_status\n",
      "Endangered              16\n",
      "In Recovery              4\n",
      "No Concern            5633\n",
      "Species of Concern     161\n",
      "Threatened              10\n",
      "Name: scientific_name, dtype: int64\n"
     ]
    }
   ],
   "source": [
    "print(species_df.groupby('conservation_status').scientific_name.count())"
   ]
  },
  {
   "cell_type": "code",
   "execution_count": 9,
   "metadata": {},
   "outputs": [],
   "source": [
    "# Ordinal Categorical Data (Conservation Status) - Ordering Statuses\n",
    "order = ['No Concern', 'Species of Concern', 'In Recovery', 'Threatened', 'Endangered']"
   ]
  },
  {
   "cell_type": "code",
   "execution_count": 10,
   "metadata": {},
   "outputs": [],
   "source": [
    "species_df['concern'] = species_df['conservation_status'].apply(lambda x: 0 if x == 'No Concern' else 1)"
   ]
  },
  {
   "cell_type": "code",
   "execution_count": 11,
   "metadata": {},
   "outputs": [
    {
     "name": "stdout",
     "output_type": "stream",
     "text": [
      "concern\n",
      "0    5633\n",
      "1     191\n",
      "Name: scientific_name, dtype: int64\n"
     ]
    },
    {
     "data": {
      "text/html": [
       "<div>\n",
       "<style scoped>\n",
       "    .dataframe tbody tr th:only-of-type {\n",
       "        vertical-align: middle;\n",
       "    }\n",
       "\n",
       "    .dataframe tbody tr th {\n",
       "        vertical-align: top;\n",
       "    }\n",
       "\n",
       "    .dataframe thead th {\n",
       "        text-align: right;\n",
       "    }\n",
       "</style>\n",
       "<table border=\"1\" class=\"dataframe\">\n",
       "  <thead>\n",
       "    <tr style=\"text-align: right;\">\n",
       "      <th></th>\n",
       "      <th>category</th>\n",
       "      <th>scientific_name</th>\n",
       "      <th>common_names</th>\n",
       "      <th>conservation_status</th>\n",
       "      <th>concern</th>\n",
       "    </tr>\n",
       "  </thead>\n",
       "  <tbody>\n",
       "    <tr>\n",
       "      <th>0</th>\n",
       "      <td>Mammal</td>\n",
       "      <td>Clethrionomys gapperi gapperi</td>\n",
       "      <td>Gapper's Red-Backed Vole</td>\n",
       "      <td>No Concern</td>\n",
       "      <td>0</td>\n",
       "    </tr>\n",
       "    <tr>\n",
       "      <th>1</th>\n",
       "      <td>Mammal</td>\n",
       "      <td>Bos bison</td>\n",
       "      <td>American Bison, Bison</td>\n",
       "      <td>No Concern</td>\n",
       "      <td>0</td>\n",
       "    </tr>\n",
       "    <tr>\n",
       "      <th>2</th>\n",
       "      <td>Mammal</td>\n",
       "      <td>Bos taurus</td>\n",
       "      <td>Aurochs, Aurochs, Domestic Cattle (Feral), Dom...</td>\n",
       "      <td>No Concern</td>\n",
       "      <td>0</td>\n",
       "    </tr>\n",
       "    <tr>\n",
       "      <th>3</th>\n",
       "      <td>Mammal</td>\n",
       "      <td>Ovis aries</td>\n",
       "      <td>Domestic Sheep, Mouflon, Red Sheep, Sheep (Feral)</td>\n",
       "      <td>No Concern</td>\n",
       "      <td>0</td>\n",
       "    </tr>\n",
       "    <tr>\n",
       "      <th>4</th>\n",
       "      <td>Mammal</td>\n",
       "      <td>Cervus elaphus</td>\n",
       "      <td>Wapiti Or Elk</td>\n",
       "      <td>No Concern</td>\n",
       "      <td>0</td>\n",
       "    </tr>\n",
       "  </tbody>\n",
       "</table>\n",
       "</div>"
      ],
      "text/plain": [
       "  category                scientific_name  \\\n",
       "0   Mammal  Clethrionomys gapperi gapperi   \n",
       "1   Mammal                      Bos bison   \n",
       "2   Mammal                     Bos taurus   \n",
       "3   Mammal                     Ovis aries   \n",
       "4   Mammal                 Cervus elaphus   \n",
       "\n",
       "                                        common_names conservation_status  \\\n",
       "0                           Gapper's Red-Backed Vole          No Concern   \n",
       "1                              American Bison, Bison          No Concern   \n",
       "2  Aurochs, Aurochs, Domestic Cattle (Feral), Dom...          No Concern   \n",
       "3  Domestic Sheep, Mouflon, Red Sheep, Sheep (Feral)          No Concern   \n",
       "4                                      Wapiti Or Elk          No Concern   \n",
       "\n",
       "   concern  \n",
       "0        0  \n",
       "1        0  \n",
       "2        0  \n",
       "3        0  \n",
       "4        0  "
      ]
     },
     "execution_count": 11,
     "metadata": {},
     "output_type": "execute_result"
    }
   ],
   "source": [
    "print(species_df.groupby('concern').scientific_name.count())\n",
    "species_df.head()"
   ]
  },
  {
   "cell_type": "code",
   "execution_count": 12,
   "metadata": {},
   "outputs": [],
   "source": [
    "# Merging both tables in one, since they have scientific_name as a common column\n",
    "compound_df = pd.merge(obs_df, species_df)"
   ]
  },
  {
   "cell_type": "code",
   "execution_count": 13,
   "metadata": {},
   "outputs": [
    {
     "data": {
      "text/html": [
       "<div>\n",
       "<style scoped>\n",
       "    .dataframe tbody tr th:only-of-type {\n",
       "        vertical-align: middle;\n",
       "    }\n",
       "\n",
       "    .dataframe tbody tr th {\n",
       "        vertical-align: top;\n",
       "    }\n",
       "\n",
       "    .dataframe thead th {\n",
       "        text-align: right;\n",
       "    }\n",
       "</style>\n",
       "<table border=\"1\" class=\"dataframe\">\n",
       "  <thead>\n",
       "    <tr style=\"text-align: right;\">\n",
       "      <th></th>\n",
       "      <th>scientific_name</th>\n",
       "      <th>park_name</th>\n",
       "      <th>observations</th>\n",
       "      <th>category</th>\n",
       "      <th>common_names</th>\n",
       "      <th>conservation_status</th>\n",
       "      <th>concern</th>\n",
       "    </tr>\n",
       "  </thead>\n",
       "  <tbody>\n",
       "    <tr>\n",
       "      <th>0</th>\n",
       "      <td>Vicia benghalensis</td>\n",
       "      <td>Great Smoky Mountains National Park</td>\n",
       "      <td>68</td>\n",
       "      <td>Vascular Plant</td>\n",
       "      <td>Purple Vetch, Reddish Tufted Vetch</td>\n",
       "      <td>No Concern</td>\n",
       "      <td>0</td>\n",
       "    </tr>\n",
       "    <tr>\n",
       "      <th>1</th>\n",
       "      <td>Vicia benghalensis</td>\n",
       "      <td>Yosemite National Park</td>\n",
       "      <td>148</td>\n",
       "      <td>Vascular Plant</td>\n",
       "      <td>Purple Vetch, Reddish Tufted Vetch</td>\n",
       "      <td>No Concern</td>\n",
       "      <td>0</td>\n",
       "    </tr>\n",
       "    <tr>\n",
       "      <th>2</th>\n",
       "      <td>Vicia benghalensis</td>\n",
       "      <td>Yellowstone National Park</td>\n",
       "      <td>247</td>\n",
       "      <td>Vascular Plant</td>\n",
       "      <td>Purple Vetch, Reddish Tufted Vetch</td>\n",
       "      <td>No Concern</td>\n",
       "      <td>0</td>\n",
       "    </tr>\n",
       "    <tr>\n",
       "      <th>3</th>\n",
       "      <td>Vicia benghalensis</td>\n",
       "      <td>Bryce National Park</td>\n",
       "      <td>104</td>\n",
       "      <td>Vascular Plant</td>\n",
       "      <td>Purple Vetch, Reddish Tufted Vetch</td>\n",
       "      <td>No Concern</td>\n",
       "      <td>0</td>\n",
       "    </tr>\n",
       "    <tr>\n",
       "      <th>4</th>\n",
       "      <td>Neovison vison</td>\n",
       "      <td>Great Smoky Mountains National Park</td>\n",
       "      <td>77</td>\n",
       "      <td>Mammal</td>\n",
       "      <td>American Mink</td>\n",
       "      <td>No Concern</td>\n",
       "      <td>0</td>\n",
       "    </tr>\n",
       "  </tbody>\n",
       "</table>\n",
       "</div>"
      ],
      "text/plain": [
       "      scientific_name                            park_name  observations  \\\n",
       "0  Vicia benghalensis  Great Smoky Mountains National Park            68   \n",
       "1  Vicia benghalensis               Yosemite National Park           148   \n",
       "2  Vicia benghalensis            Yellowstone National Park           247   \n",
       "3  Vicia benghalensis                  Bryce National Park           104   \n",
       "4      Neovison vison  Great Smoky Mountains National Park            77   \n",
       "\n",
       "         category                        common_names conservation_status  \\\n",
       "0  Vascular Plant  Purple Vetch, Reddish Tufted Vetch          No Concern   \n",
       "1  Vascular Plant  Purple Vetch, Reddish Tufted Vetch          No Concern   \n",
       "2  Vascular Plant  Purple Vetch, Reddish Tufted Vetch          No Concern   \n",
       "3  Vascular Plant  Purple Vetch, Reddish Tufted Vetch          No Concern   \n",
       "4          Mammal                       American Mink          No Concern   \n",
       "\n",
       "   concern  \n",
       "0        0  \n",
       "1        0  \n",
       "2        0  \n",
       "3        0  \n",
       "4        0  "
      ]
     },
     "execution_count": 13,
     "metadata": {},
     "output_type": "execute_result"
    }
   ],
   "source": [
    "compound_df.head()"
   ]
  },
  {
   "cell_type": "code",
   "execution_count": 14,
   "metadata": {},
   "outputs": [
    {
     "name": "stdout",
     "output_type": "stream",
     "text": [
      "<class 'pandas.core.frame.DataFrame'>\n",
      "Int64Index: 25632 entries, 0 to 25631\n",
      "Data columns (total 7 columns):\n",
      " #   Column               Non-Null Count  Dtype \n",
      "---  ------               --------------  ----- \n",
      " 0   scientific_name      25632 non-null  object\n",
      " 1   park_name            25632 non-null  object\n",
      " 2   observations         25632 non-null  int64 \n",
      " 3   category             25632 non-null  object\n",
      " 4   common_names         25632 non-null  object\n",
      " 5   conservation_status  25632 non-null  object\n",
      " 6   concern              25632 non-null  int64 \n",
      "dtypes: int64(2), object(5)\n",
      "memory usage: 1.6+ MB\n"
     ]
    }
   ],
   "source": [
    "compound_df.info()"
   ]
  },
  {
   "cell_type": "code",
   "execution_count": 15,
   "metadata": {},
   "outputs": [],
   "source": [
    "# Ordering Categorical Data (Conservation Status)\n",
    "compound_df['conservation_status'] = pd.Categorical(compound_df.conservation_status, order, ordered = True)"
   ]
  },
  {
   "cell_type": "code",
   "execution_count": 16,
   "metadata": {},
   "outputs": [
    {
     "data": {
      "text/html": [
       "<div>\n",
       "<style scoped>\n",
       "    .dataframe tbody tr th:only-of-type {\n",
       "        vertical-align: middle;\n",
       "    }\n",
       "\n",
       "    .dataframe tbody tr th {\n",
       "        vertical-align: top;\n",
       "    }\n",
       "\n",
       "    .dataframe thead th {\n",
       "        text-align: right;\n",
       "    }\n",
       "</style>\n",
       "<table border=\"1\" class=\"dataframe\">\n",
       "  <thead>\n",
       "    <tr style=\"text-align: right;\">\n",
       "      <th></th>\n",
       "      <th>scientific_name</th>\n",
       "      <th>park_name</th>\n",
       "      <th>observations</th>\n",
       "      <th>category</th>\n",
       "      <th>common_names</th>\n",
       "      <th>conservation_status</th>\n",
       "      <th>concern</th>\n",
       "      <th>genus</th>\n",
       "      <th>species</th>\n",
       "    </tr>\n",
       "  </thead>\n",
       "  <tbody>\n",
       "    <tr>\n",
       "      <th>0</th>\n",
       "      <td>Vicia benghalensis</td>\n",
       "      <td>Great Smoky Mountains National Park</td>\n",
       "      <td>68</td>\n",
       "      <td>Vascular Plant</td>\n",
       "      <td>Purple Vetch, Reddish Tufted Vetch</td>\n",
       "      <td>No Concern</td>\n",
       "      <td>0</td>\n",
       "      <td>Vicia</td>\n",
       "      <td>benghalensis</td>\n",
       "    </tr>\n",
       "    <tr>\n",
       "      <th>1</th>\n",
       "      <td>Vicia benghalensis</td>\n",
       "      <td>Yosemite National Park</td>\n",
       "      <td>148</td>\n",
       "      <td>Vascular Plant</td>\n",
       "      <td>Purple Vetch, Reddish Tufted Vetch</td>\n",
       "      <td>No Concern</td>\n",
       "      <td>0</td>\n",
       "      <td>Vicia</td>\n",
       "      <td>benghalensis</td>\n",
       "    </tr>\n",
       "    <tr>\n",
       "      <th>2</th>\n",
       "      <td>Vicia benghalensis</td>\n",
       "      <td>Yellowstone National Park</td>\n",
       "      <td>247</td>\n",
       "      <td>Vascular Plant</td>\n",
       "      <td>Purple Vetch, Reddish Tufted Vetch</td>\n",
       "      <td>No Concern</td>\n",
       "      <td>0</td>\n",
       "      <td>Vicia</td>\n",
       "      <td>benghalensis</td>\n",
       "    </tr>\n",
       "    <tr>\n",
       "      <th>3</th>\n",
       "      <td>Vicia benghalensis</td>\n",
       "      <td>Bryce National Park</td>\n",
       "      <td>104</td>\n",
       "      <td>Vascular Plant</td>\n",
       "      <td>Purple Vetch, Reddish Tufted Vetch</td>\n",
       "      <td>No Concern</td>\n",
       "      <td>0</td>\n",
       "      <td>Vicia</td>\n",
       "      <td>benghalensis</td>\n",
       "    </tr>\n",
       "    <tr>\n",
       "      <th>4</th>\n",
       "      <td>Neovison vison</td>\n",
       "      <td>Great Smoky Mountains National Park</td>\n",
       "      <td>77</td>\n",
       "      <td>Mammal</td>\n",
       "      <td>American Mink</td>\n",
       "      <td>No Concern</td>\n",
       "      <td>0</td>\n",
       "      <td>Neovison</td>\n",
       "      <td>vison</td>\n",
       "    </tr>\n",
       "  </tbody>\n",
       "</table>\n",
       "</div>"
      ],
      "text/plain": [
       "      scientific_name                            park_name  observations  \\\n",
       "0  Vicia benghalensis  Great Smoky Mountains National Park            68   \n",
       "1  Vicia benghalensis               Yosemite National Park           148   \n",
       "2  Vicia benghalensis            Yellowstone National Park           247   \n",
       "3  Vicia benghalensis                  Bryce National Park           104   \n",
       "4      Neovison vison  Great Smoky Mountains National Park            77   \n",
       "\n",
       "         category                        common_names conservation_status  \\\n",
       "0  Vascular Plant  Purple Vetch, Reddish Tufted Vetch          No Concern   \n",
       "1  Vascular Plant  Purple Vetch, Reddish Tufted Vetch          No Concern   \n",
       "2  Vascular Plant  Purple Vetch, Reddish Tufted Vetch          No Concern   \n",
       "3  Vascular Plant  Purple Vetch, Reddish Tufted Vetch          No Concern   \n",
       "4          Mammal                       American Mink          No Concern   \n",
       "\n",
       "   concern     genus       species  \n",
       "0        0     Vicia  benghalensis  \n",
       "1        0     Vicia  benghalensis  \n",
       "2        0     Vicia  benghalensis  \n",
       "3        0     Vicia  benghalensis  \n",
       "4        0  Neovison         vison  "
      ]
     },
     "execution_count": 16,
     "metadata": {},
     "output_type": "execute_result"
    }
   ],
   "source": [
    "# Creating split columns for scientific name (genus and species)\n",
    "compound_df['split_name'] = compound_df['scientific_name'].str.split(' ')\n",
    "compound_df['genus'] = compound_df.split_name.str.get(0)\n",
    "compound_df['species'] = compound_df.split_name.str.get(1)\n",
    "compound_df.drop(columns = ['split_name'], inplace = True)\n",
    "compound_df.head()"
   ]
  },
  {
   "cell_type": "code",
   "execution_count": 17,
   "metadata": {},
   "outputs": [
    {
     "data": {
      "text/html": [
       "<div>\n",
       "<style scoped>\n",
       "    .dataframe tbody tr th:only-of-type {\n",
       "        vertical-align: middle;\n",
       "    }\n",
       "\n",
       "    .dataframe tbody tr th {\n",
       "        vertical-align: top;\n",
       "    }\n",
       "\n",
       "    .dataframe thead th {\n",
       "        text-align: right;\n",
       "    }\n",
       "</style>\n",
       "<table border=\"1\" class=\"dataframe\">\n",
       "  <thead>\n",
       "    <tr style=\"text-align: right;\">\n",
       "      <th></th>\n",
       "      <th>park_name</th>\n",
       "      <th>category</th>\n",
       "      <th>scientific_name</th>\n",
       "      <th>genus</th>\n",
       "      <th>species</th>\n",
       "      <th>common_names</th>\n",
       "      <th>observations</th>\n",
       "      <th>conservation_status</th>\n",
       "      <th>concern</th>\n",
       "    </tr>\n",
       "  </thead>\n",
       "  <tbody>\n",
       "    <tr>\n",
       "      <th>0</th>\n",
       "      <td>Great Smoky Mountains National Park</td>\n",
       "      <td>Vascular Plant</td>\n",
       "      <td>Vicia benghalensis</td>\n",
       "      <td>Vicia</td>\n",
       "      <td>benghalensis</td>\n",
       "      <td>Purple Vetch, Reddish Tufted Vetch</td>\n",
       "      <td>68</td>\n",
       "      <td>No Concern</td>\n",
       "      <td>0</td>\n",
       "    </tr>\n",
       "    <tr>\n",
       "      <th>1</th>\n",
       "      <td>Yosemite National Park</td>\n",
       "      <td>Vascular Plant</td>\n",
       "      <td>Vicia benghalensis</td>\n",
       "      <td>Vicia</td>\n",
       "      <td>benghalensis</td>\n",
       "      <td>Purple Vetch, Reddish Tufted Vetch</td>\n",
       "      <td>148</td>\n",
       "      <td>No Concern</td>\n",
       "      <td>0</td>\n",
       "    </tr>\n",
       "    <tr>\n",
       "      <th>2</th>\n",
       "      <td>Yellowstone National Park</td>\n",
       "      <td>Vascular Plant</td>\n",
       "      <td>Vicia benghalensis</td>\n",
       "      <td>Vicia</td>\n",
       "      <td>benghalensis</td>\n",
       "      <td>Purple Vetch, Reddish Tufted Vetch</td>\n",
       "      <td>247</td>\n",
       "      <td>No Concern</td>\n",
       "      <td>0</td>\n",
       "    </tr>\n",
       "    <tr>\n",
       "      <th>3</th>\n",
       "      <td>Bryce National Park</td>\n",
       "      <td>Vascular Plant</td>\n",
       "      <td>Vicia benghalensis</td>\n",
       "      <td>Vicia</td>\n",
       "      <td>benghalensis</td>\n",
       "      <td>Purple Vetch, Reddish Tufted Vetch</td>\n",
       "      <td>104</td>\n",
       "      <td>No Concern</td>\n",
       "      <td>0</td>\n",
       "    </tr>\n",
       "    <tr>\n",
       "      <th>4</th>\n",
       "      <td>Great Smoky Mountains National Park</td>\n",
       "      <td>Mammal</td>\n",
       "      <td>Neovison vison</td>\n",
       "      <td>Neovison</td>\n",
       "      <td>vison</td>\n",
       "      <td>American Mink</td>\n",
       "      <td>77</td>\n",
       "      <td>No Concern</td>\n",
       "      <td>0</td>\n",
       "    </tr>\n",
       "  </tbody>\n",
       "</table>\n",
       "</div>"
      ],
      "text/plain": [
       "                             park_name        category     scientific_name  \\\n",
       "0  Great Smoky Mountains National Park  Vascular Plant  Vicia benghalensis   \n",
       "1               Yosemite National Park  Vascular Plant  Vicia benghalensis   \n",
       "2            Yellowstone National Park  Vascular Plant  Vicia benghalensis   \n",
       "3                  Bryce National Park  Vascular Plant  Vicia benghalensis   \n",
       "4  Great Smoky Mountains National Park          Mammal      Neovison vison   \n",
       "\n",
       "      genus       species                        common_names  observations  \\\n",
       "0     Vicia  benghalensis  Purple Vetch, Reddish Tufted Vetch            68   \n",
       "1     Vicia  benghalensis  Purple Vetch, Reddish Tufted Vetch           148   \n",
       "2     Vicia  benghalensis  Purple Vetch, Reddish Tufted Vetch           247   \n",
       "3     Vicia  benghalensis  Purple Vetch, Reddish Tufted Vetch           104   \n",
       "4  Neovison         vison                       American Mink            77   \n",
       "\n",
       "  conservation_status  concern  \n",
       "0          No Concern        0  \n",
       "1          No Concern        0  \n",
       "2          No Concern        0  \n",
       "3          No Concern        0  \n",
       "4          No Concern        0  "
      ]
     },
     "execution_count": 17,
     "metadata": {},
     "output_type": "execute_result"
    }
   ],
   "source": [
    "compound_df = compound_df[['park_name','category','scientific_name','genus','species', 'common_names', 'observations','conservation_status','concern']]\n",
    "compound_df.head()"
   ]
  },
  {
   "cell_type": "markdown",
   "metadata": {},
   "source": [
    "***"
   ]
  },
  {
   "cell_type": "markdown",
   "metadata": {},
   "source": [
    "## Summary Statistics"
   ]
  },
  {
   "cell_type": "markdown",
   "metadata": {},
   "source": [
    "### <strong> Conservation Status"
   ]
  },
  {
   "cell_type": "markdown",
   "metadata": {},
   "source": [
    "<em><strong> 1) Conservation Status Proportions"
   ]
  },
  {
   "cell_type": "markdown",
   "metadata": {},
   "source": [
    "The objective of this session is to analyze and plot the conservation status of the different species present in the data provided. \n",
    "\n",
    "First, data was split between species which do not represent any concern regarding its conservation status, and species that has some degree of threat to its conservation (aggregating all of conservation statuses which are different from 'No Concern'.\n",
    "\n",
    "Second, the share of species which do have a status different from 'No Concern' was isolated and a proportion breakdown was carried out to show how are the concern status distributed between concerned species. "
   ]
  },
  {
   "cell_type": "code",
   "execution_count": 18,
   "metadata": {},
   "outputs": [
    {
     "name": "stdout",
     "output_type": "stream",
     "text": [
      "  conservation_status  proportion\n",
      "0          Endangered    0.002747\n",
      "1         In Recovery    0.000687\n",
      "2          No Concern    0.967205\n",
      "3  Species of Concern    0.027644\n",
      "4          Threatened    0.001717\n"
     ]
    },
    {
     "name": "stderr",
     "output_type": "stream",
     "text": [
      "C:\\Users\\rafab\\anaconda3\\lib\\site-packages\\pandas\\core\\generic.py:5516: SettingWithCopyWarning: \n",
      "A value is trying to be set on a copy of a slice from a DataFrame.\n",
      "Try using .loc[row_indexer,col_indexer] = value instead\n",
      "\n",
      "See the caveats in the documentation: https://pandas.pydata.org/pandas-docs/stable/user_guide/indexing.html#returning-a-view-versus-a-copy\n",
      "  self[name] = value\n"
     ]
    },
    {
     "data": {
      "text/plain": [
       "(-1.1048422137556666,\n",
       " 1.1002305816074127,\n",
       " -1.1062724583545613,\n",
       " 1.106212620881293)"
      ]
     },
     "execution_count": 18,
     "metadata": {},
     "output_type": "execute_result"
    },
    {
     "data": {
      "image/png": "[encoded data removed]",
      "text/plain": [
       "<Figure size 720x360 with 2 Axes>"
      ]
     },
     "metadata": {},
     "output_type": "display_data"
    }
   ],
   "source": [
    "# Conservation Status - Proportions\n",
    "status_prop = species_df.groupby('conservation_status').scientific_name.count().reset_index() \n",
    "pop = species_df.scientific_name.count()\n",
    "status_prop['scientific_name'] = status_prop['scientific_name'] / pop\n",
    "status_prop.rename(columns = {'scientific_name': 'proportion'}, inplace = True)\n",
    "print(status_prop)\n",
    "no_concern = status_prop.at[2,'proportion']\n",
    "concern = 1 - no_concern\n",
    "\n",
    "# Style Set\n",
    "palette_1 = sns.color_palette('Paired', 10)\n",
    "sns.set_palette(palette_1)\n",
    "sns.set_style('darkgrid')\n",
    "\n",
    "# Pie Plot\n",
    "plt.figure(figsize = (10,5))\n",
    "plt.subplot(1,2,1)\n",
    "plt.pie([no_concern, concern], autopct = '%0.1f%%')\n",
    "plt.legend(['No concern', 'Concern'])\n",
    "plt.title('Conservation Status of The Species in The National Parks')\n",
    "plt.axis('equal')\n",
    "\n",
    "# Status Breakdown\n",
    "status_break = status_prop[status_prop.conservation_status != 'No Concern']\n",
    "status_break.proportion = status_break.proportion / status_break.proportion.sum()\n",
    "plt.subplot(1,2,2)\n",
    "plt.pie(status_break.proportion, autopct = '%0.1f%%')\n",
    "plt.legend(status_break.conservation_status)\n",
    "plt.title('Corcerned Species Status Breakdown')\n",
    "plt.axis('equal')"
   ]
  },
  {
   "cell_type": "markdown",
   "metadata": {},
   "source": [
    "<em> Conclusions </em>\n",
    "* The share of species which represent a conservation status concern is small compared to the number of species in the study;\n",
    "* Most of the species that represent a concern in terms of conservation fall into the first level of threat, species of Concern (84.3%);\n",
    "* 0.27% of the species (3.3% x 8.4%) have 'Endangered' as their status"
   ]
  },
  {
   "cell_type": "markdown",
   "metadata": {},
   "source": [
    "<em><strong> 2) Category Breakdown - Concerned Species"
   ]
  },
  {
   "cell_type": "markdown",
   "metadata": {},
   "source": [
    "In this section, the objective is to analyze, among the different categories of species, the ones which are more threatened  in their conservation."
   ]
  },
  {
   "cell_type": "code",
   "execution_count": 19,
   "metadata": {},
   "outputs": [
    {
     "data": {
      "image/png": "[encoded data removed]",
      "text/plain": [
       "<Figure size 1152x576 with 1 Axes>"
      ]
     },
     "metadata": {},
     "output_type": "display_data"
    },
    {
     "data": {
      "image/png": "[encoded data removed]",
      "text/plain": [
       "<Figure size 1152x576 with 7 Axes>"
      ]
     },
     "metadata": {},
     "output_type": "display_data"
    }
   ],
   "source": [
    "# Ploting Number of Species in each Category (note the log scale in the y-axis!)\n",
    "categories = species_df.category.unique()\n",
    "plt.figure(figsize = (16,8))\n",
    "ax = sns.countplot(data = species_df, x = 'category', hue = 'concern')\n",
    "ax.set_title('Number of Species by Category')\n",
    "ax.set_xticks(range(len(categories)))\n",
    "ax.set_xticklabels(categories)\n",
    "ax.set_xlabel('Category')\n",
    "ax.set_ylabel('Number of Species')\n",
    "plt.legend(['No Concern','Concern'], loc = 1)\n",
    "\n",
    "plt.figure(figsize = (16,8))\n",
    "for i in range(len(categories)):\n",
    "    plt.subplot(2,4,i + 1)\n",
    "    concern_prop = len(species_df[(species_df.category == categories[i]) & (species_df.concern == 1)]) / len(species_df[species_df.category == categories[i]])\n",
    "    no_concern_prop = 1 - concern_prop\n",
    "    plt.pie([no_concern_prop, concern_prop], autopct = '%0.1f%%')\n",
    "    plt.legend(['No Concern', 'Concern'])\n",
    "    plt.title(\"{category}'s Concern Proportion\".format(category = categories[i]))\n",
    "    plt.axis('equal')"
   ]
  },
  {
   "cell_type": "markdown",
   "metadata": {},
   "source": [
    "<em> Conclusions </em>\n",
    "\n",
    "While looking at the data, the conservation statuses of the different categories can be  analyzed by two different views: absolute and relative. The absolute view has more to do with the first (bar) plot above, while the reltative view, with th second (pie) plot.\n",
    "\n",
    "Taking the absolute view first, we can conclude that:\n",
    "\n",
    "* The number of different kinds of species are not uniform across categories. Some categories tend to concentrate the number of species, such as plans (vascular and non-vascular) and birds.\n",
    "* In absolute terms, the categories that present the highest concern are birds and vascular plants, followed by mammals, fish and amphibians.\n",
    "\n",
    "Relatively speaking, the conclusions are somehow different from the previous ones:\n",
    "\n",
    "* Birds and Mammals stand out as the categories with the largest relative population in concern conditions;\n",
    "* Amphibians, Fish and Reptiles present intermediate concern proportions;\n",
    "* Plants have only a small percentage (1-2%) of its populations in concern conditions"
   ]
  },
  {
   "cell_type": "markdown",
   "metadata": {},
   "source": [
    "#### <em> 3) Severity of Conservation Status - Breakdown\n",
    "    \n",
    "Now we take a look at the severity of the conervation status among the different categories. In order to do so, we have to analyze how the species in each category distribute themselves in each kind of conservation status."
   ]
  },
  {
   "cell_type": "code",
   "execution_count": 20,
   "metadata": {},
   "outputs": [
    {
     "data": {
      "text/plain": [
       "<matplotlib.legend.Legend at 0x1777e5da4f0>"
      ]
     },
     "execution_count": 20,
     "metadata": {},
     "output_type": "execute_result"
    },
    {
     "data": {
      "image/png": "[encoded data removed]",
      "text/plain": [
       "<Figure size 720x576 with 1 Axes>"
      ]
     },
     "metadata": {},
     "output_type": "display_data"
    }
   ],
   "source": [
    "# Ploting Concerned Species Category Breakdown\n",
    "concern_df = species_df[species_df.conservation_status != 'No Concern']\n",
    "concern_df = concern_df[['category', 'scientific_name', 'conservation_status']]\n",
    "\n",
    "plt.figure(figsize = (10,8))\n",
    "ax = sns.countplot(data = concern_df, x = 'conservation_status', hue = 'category')\n",
    "ax.set_title('Number of Species by Category, by Conservation Status')\n",
    "ax.set_xticks(range(len(concern_df.conservation_status.unique())))\n",
    "ax.set_xticklabels(concern_df.conservation_status.unique(),)\n",
    "ax.set_xlabel('Category')\n",
    "ax.set_ylabel('Number of Species')\n",
    "plt.legend(loc = 1)"
   ]
  },
  {
   "cell_type": "markdown",
   "metadata": {},
   "source": [
    "<em> Conclusions </em>\n",
    "* From the plot above, which shows the distribution of species in different categories among different levels of threat, we can see that some categories have their concerned population concentrated in the first level of concern ('Species of concern'), whereas others have a higher ratio of their concerned population in the more vulnerable concern categories."
   ]
  },
  {
   "cell_type": "markdown",
   "metadata": {},
   "source": [
    "Now, in order to analyze deeper into the data, a new variable called 'concern index' was created. This index was derived first by transforming the categorical variable <em>conservation_status</em> to an ordinal variable, assuming an implicit order in the statuses, from the smallest to the largest threat (ranging from 1 to 4). Then, the mean value of the categorical codes was calculated for each category, without considering the species that are of 'No Concern'. I expect that this will be a fair measure of the most vulnerable categories, which urge attention by the enviroment specialists."
   ]
  },
  {
   "cell_type": "code",
   "execution_count": 21,
   "metadata": {},
   "outputs": [
    {
     "name": "stdout",
     "output_type": "stream",
     "text": [
      "The mean concern index is: 1.3769633507853403\n"
     ]
    },
    {
     "data": {
      "text/plain": [
       "Text(0, 0.5, 'Concern Index')"
      ]
     },
     "execution_count": 21,
     "metadata": {},
     "output_type": "execute_result"
    },
    {
     "data": {
      "image/png": "[encoded data removed]",
      "text/plain": [
       "<Figure size 720x360 with 1 Axes>"
      ]
     },
     "metadata": {},
     "output_type": "display_data"
    }
   ],
   "source": [
    "# Ploting Categories agains Concern Index\n",
    "concern_df['conservation_status'] = pd.Categorical(concern_df.conservation_status, order, ordered = True)\n",
    "mean_concern_index = np.mean(concern_df.conservation_status.cat.codes)\n",
    "print('The mean concern index is: {concern}'.format(concern = mean_concern_index))\n",
    "concern_df['concern_index'] = concern_df.conservation_status.cat.codes\n",
    "\n",
    "plt.figure(figsize = (10,5))\n",
    "ax = sns.barplot(data = concern_df, x = 'category', y = 'concern_index', estimator = np.mean)\n",
    "ax.set_title('Distribution of Concern Index by Category')\n",
    "ax.set_xticks(range(len(concern_df.category.unique())))\n",
    "ax.set_xticklabels(concern_df.category.unique(), rotation = 30)\n",
    "ax.set_xlabel('Category')\n",
    "ax.set_ylabel('Concern Index')"
   ]
  },
  {
   "cell_type": "markdown",
   "metadata": {},
   "source": [
    "<em> Conclusions </em>\n",
    "* Comparing the individual concern indexes among different categories with the mean concern index, the above plot suggests that some categories are more severely threatened in their conservation than others.\n",
    "* Fish, Amphibian and Mammal categories have higher average concern index compared to the whole population of species in concern"
   ]
  },
  {
   "cell_type": "markdown",
   "metadata": {},
   "source": [
    "***"
   ]
  },
  {
   "cell_type": "markdown",
   "metadata": {},
   "source": [
    "### Correlation between Number of Observations and Conservation Status"
   ]
  },
  {
   "cell_type": "markdown",
   "metadata": {},
   "source": [
    "Now the focus of the analysis will be the correlation between each species number of observations and the corresponding concern index (derived from conservation status as explained in the previous section). The analysis will take into consideration the overall numbers (averaging the number of observations between four parks) as well as each park individually."
   ]
  },
  {
   "cell_type": "code",
   "execution_count": 22,
   "metadata": {
    "scrolled": true
   },
   "outputs": [
    {
     "data": {
      "text/html": [
       "<div>\n",
       "<style scoped>\n",
       "    .dataframe tbody tr th:only-of-type {\n",
       "        vertical-align: middle;\n",
       "    }\n",
       "\n",
       "    .dataframe tbody tr th {\n",
       "        vertical-align: top;\n",
       "    }\n",
       "\n",
       "    .dataframe thead th {\n",
       "        text-align: right;\n",
       "    }\n",
       "</style>\n",
       "<table border=\"1\" class=\"dataframe\">\n",
       "  <thead>\n",
       "    <tr style=\"text-align: right;\">\n",
       "      <th></th>\n",
       "      <th>park_name</th>\n",
       "      <th>category</th>\n",
       "      <th>scientific_name</th>\n",
       "      <th>genus</th>\n",
       "      <th>species</th>\n",
       "      <th>common_names</th>\n",
       "      <th>observations</th>\n",
       "      <th>conservation_status</th>\n",
       "      <th>concern</th>\n",
       "      <th>concern_index</th>\n",
       "    </tr>\n",
       "  </thead>\n",
       "  <tbody>\n",
       "    <tr>\n",
       "      <th>0</th>\n",
       "      <td>Great Smoky Mountains National Park</td>\n",
       "      <td>Vascular Plant</td>\n",
       "      <td>Vicia benghalensis</td>\n",
       "      <td>Vicia</td>\n",
       "      <td>benghalensis</td>\n",
       "      <td>Purple Vetch, Reddish Tufted Vetch</td>\n",
       "      <td>68</td>\n",
       "      <td>No Concern</td>\n",
       "      <td>0</td>\n",
       "      <td>0</td>\n",
       "    </tr>\n",
       "    <tr>\n",
       "      <th>1</th>\n",
       "      <td>Yosemite National Park</td>\n",
       "      <td>Vascular Plant</td>\n",
       "      <td>Vicia benghalensis</td>\n",
       "      <td>Vicia</td>\n",
       "      <td>benghalensis</td>\n",
       "      <td>Purple Vetch, Reddish Tufted Vetch</td>\n",
       "      <td>148</td>\n",
       "      <td>No Concern</td>\n",
       "      <td>0</td>\n",
       "      <td>0</td>\n",
       "    </tr>\n",
       "    <tr>\n",
       "      <th>2</th>\n",
       "      <td>Yellowstone National Park</td>\n",
       "      <td>Vascular Plant</td>\n",
       "      <td>Vicia benghalensis</td>\n",
       "      <td>Vicia</td>\n",
       "      <td>benghalensis</td>\n",
       "      <td>Purple Vetch, Reddish Tufted Vetch</td>\n",
       "      <td>247</td>\n",
       "      <td>No Concern</td>\n",
       "      <td>0</td>\n",
       "      <td>0</td>\n",
       "    </tr>\n",
       "    <tr>\n",
       "      <th>3</th>\n",
       "      <td>Bryce National Park</td>\n",
       "      <td>Vascular Plant</td>\n",
       "      <td>Vicia benghalensis</td>\n",
       "      <td>Vicia</td>\n",
       "      <td>benghalensis</td>\n",
       "      <td>Purple Vetch, Reddish Tufted Vetch</td>\n",
       "      <td>104</td>\n",
       "      <td>No Concern</td>\n",
       "      <td>0</td>\n",
       "      <td>0</td>\n",
       "    </tr>\n",
       "    <tr>\n",
       "      <th>4</th>\n",
       "      <td>Great Smoky Mountains National Park</td>\n",
       "      <td>Mammal</td>\n",
       "      <td>Neovison vison</td>\n",
       "      <td>Neovison</td>\n",
       "      <td>vison</td>\n",
       "      <td>American Mink</td>\n",
       "      <td>77</td>\n",
       "      <td>No Concern</td>\n",
       "      <td>0</td>\n",
       "      <td>0</td>\n",
       "    </tr>\n",
       "  </tbody>\n",
       "</table>\n",
       "</div>"
      ],
      "text/plain": [
       "                             park_name        category     scientific_name  \\\n",
       "0  Great Smoky Mountains National Park  Vascular Plant  Vicia benghalensis   \n",
       "1               Yosemite National Park  Vascular Plant  Vicia benghalensis   \n",
       "2            Yellowstone National Park  Vascular Plant  Vicia benghalensis   \n",
       "3                  Bryce National Park  Vascular Plant  Vicia benghalensis   \n",
       "4  Great Smoky Mountains National Park          Mammal      Neovison vison   \n",
       "\n",
       "      genus       species                        common_names  observations  \\\n",
       "0     Vicia  benghalensis  Purple Vetch, Reddish Tufted Vetch            68   \n",
       "1     Vicia  benghalensis  Purple Vetch, Reddish Tufted Vetch           148   \n",
       "2     Vicia  benghalensis  Purple Vetch, Reddish Tufted Vetch           247   \n",
       "3     Vicia  benghalensis  Purple Vetch, Reddish Tufted Vetch           104   \n",
       "4  Neovison         vison                       American Mink            77   \n",
       "\n",
       "  conservation_status  concern  concern_index  \n",
       "0          No Concern        0              0  \n",
       "1          No Concern        0              0  \n",
       "2          No Concern        0              0  \n",
       "3          No Concern        0              0  \n",
       "4          No Concern        0              0  "
      ]
     },
     "execution_count": 22,
     "metadata": {},
     "output_type": "execute_result"
    }
   ],
   "source": [
    "# Preparing tables for analysis\n",
    "compound_df['concern_index'] = compound_df.conservation_status.cat.codes\n",
    "compound_df.head()"
   ]
  },
  {
   "cell_type": "code",
   "execution_count": 23,
   "metadata": {
    "scrolled": true
   },
   "outputs": [
    {
     "name": "stdout",
     "output_type": "stream",
     "text": [
      "<class 'pandas.core.frame.DataFrame'>\n",
      "RangeIndex: 5541 entries, 0 to 5540\n",
      "Data columns (total 2 columns):\n",
      " #   Column           Non-Null Count  Dtype \n",
      "---  ------           --------------  ----- \n",
      " 0   scientific_name  5541 non-null   object\n",
      " 1   observations     5541 non-null   int64 \n",
      "dtypes: int64(1), object(1)\n",
      "memory usage: 86.7+ KB\n"
     ]
    },
    {
     "data": {
      "text/html": [
       "<div>\n",
       "<style scoped>\n",
       "    .dataframe tbody tr th:only-of-type {\n",
       "        vertical-align: middle;\n",
       "    }\n",
       "\n",
       "    .dataframe tbody tr th {\n",
       "        vertical-align: top;\n",
       "    }\n",
       "\n",
       "    .dataframe thead th {\n",
       "        text-align: right;\n",
       "    }\n",
       "</style>\n",
       "<table border=\"1\" class=\"dataframe\">\n",
       "  <thead>\n",
       "    <tr style=\"text-align: right;\">\n",
       "      <th></th>\n",
       "      <th>scientific_name</th>\n",
       "      <th>observations</th>\n",
       "    </tr>\n",
       "  </thead>\n",
       "  <tbody>\n",
       "    <tr>\n",
       "      <th>0</th>\n",
       "      <td>Abies bifolia</td>\n",
       "      <td>532</td>\n",
       "    </tr>\n",
       "    <tr>\n",
       "      <th>1</th>\n",
       "      <td>Abies concolor</td>\n",
       "      <td>630</td>\n",
       "    </tr>\n",
       "    <tr>\n",
       "      <th>2</th>\n",
       "      <td>Abies fraseri</td>\n",
       "      <td>518</td>\n",
       "    </tr>\n",
       "    <tr>\n",
       "      <th>3</th>\n",
       "      <td>Abietinella abietina</td>\n",
       "      <td>592</td>\n",
       "    </tr>\n",
       "    <tr>\n",
       "      <th>4</th>\n",
       "      <td>Abronia ammophila</td>\n",
       "      <td>523</td>\n",
       "    </tr>\n",
       "  </tbody>\n",
       "</table>\n",
       "</div>"
      ],
      "text/plain": [
       "        scientific_name  observations\n",
       "0         Abies bifolia           532\n",
       "1        Abies concolor           630\n",
       "2         Abies fraseri           518\n",
       "3  Abietinella abietina           592\n",
       "4     Abronia ammophila           523"
      ]
     },
     "execution_count": 23,
     "metadata": {},
     "output_type": "execute_result"
    }
   ],
   "source": [
    "obs_df = compound_df.groupby('scientific_name').observations.sum().reset_index()\n",
    "obs_df.info()\n",
    "obs_df.head()"
   ]
  },
  {
   "cell_type": "code",
   "execution_count": 24,
   "metadata": {},
   "outputs": [
    {
     "name": "stdout",
     "output_type": "stream",
     "text": [
      "<class 'pandas.core.frame.DataFrame'>\n",
      "RangeIndex: 5541 entries, 0 to 5540\n",
      "Data columns (total 2 columns):\n",
      " #   Column           Non-Null Count  Dtype  \n",
      "---  ------           --------------  -----  \n",
      " 0   scientific_name  5541 non-null   object \n",
      " 1   concern_index    5541 non-null   float64\n",
      "dtypes: float64(1), object(1)\n",
      "memory usage: 86.7+ KB\n"
     ]
    },
    {
     "data": {
      "text/html": [
       "<div>\n",
       "<style scoped>\n",
       "    .dataframe tbody tr th:only-of-type {\n",
       "        vertical-align: middle;\n",
       "    }\n",
       "\n",
       "    .dataframe tbody tr th {\n",
       "        vertical-align: top;\n",
       "    }\n",
       "\n",
       "    .dataframe thead th {\n",
       "        text-align: right;\n",
       "    }\n",
       "</style>\n",
       "<table border=\"1\" class=\"dataframe\">\n",
       "  <thead>\n",
       "    <tr style=\"text-align: right;\">\n",
       "      <th></th>\n",
       "      <th>scientific_name</th>\n",
       "      <th>concern_index</th>\n",
       "    </tr>\n",
       "  </thead>\n",
       "  <tbody>\n",
       "    <tr>\n",
       "      <th>0</th>\n",
       "      <td>Abies bifolia</td>\n",
       "      <td>0.0</td>\n",
       "    </tr>\n",
       "    <tr>\n",
       "      <th>1</th>\n",
       "      <td>Abies concolor</td>\n",
       "      <td>0.0</td>\n",
       "    </tr>\n",
       "    <tr>\n",
       "      <th>2</th>\n",
       "      <td>Abies fraseri</td>\n",
       "      <td>1.0</td>\n",
       "    </tr>\n",
       "    <tr>\n",
       "      <th>3</th>\n",
       "      <td>Abietinella abietina</td>\n",
       "      <td>0.0</td>\n",
       "    </tr>\n",
       "    <tr>\n",
       "      <th>4</th>\n",
       "      <td>Abronia ammophila</td>\n",
       "      <td>1.0</td>\n",
       "    </tr>\n",
       "  </tbody>\n",
       "</table>\n",
       "</div>"
      ],
      "text/plain": [
       "        scientific_name  concern_index\n",
       "0         Abies bifolia            0.0\n",
       "1        Abies concolor            0.0\n",
       "2         Abies fraseri            1.0\n",
       "3  Abietinella abietina            0.0\n",
       "4     Abronia ammophila            1.0"
      ]
     },
     "execution_count": 24,
     "metadata": {},
     "output_type": "execute_result"
    }
   ],
   "source": [
    "index_df = compound_df.groupby('scientific_name').concern_index.mean().reset_index()\n",
    "index_df.info()\n",
    "index_df.head()"
   ]
  },
  {
   "cell_type": "code",
   "execution_count": 25,
   "metadata": {},
   "outputs": [
    {
     "data": {
      "text/html": [
       "<div>\n",
       "<style scoped>\n",
       "    .dataframe tbody tr th:only-of-type {\n",
       "        vertical-align: middle;\n",
       "    }\n",
       "\n",
       "    .dataframe tbody tr th {\n",
       "        vertical-align: top;\n",
       "    }\n",
       "\n",
       "    .dataframe thead th {\n",
       "        text-align: right;\n",
       "    }\n",
       "</style>\n",
       "<table border=\"1\" class=\"dataframe\">\n",
       "  <thead>\n",
       "    <tr style=\"text-align: right;\">\n",
       "      <th></th>\n",
       "      <th>scientific_name</th>\n",
       "      <th>observations</th>\n",
       "      <th>concern_index</th>\n",
       "    </tr>\n",
       "  </thead>\n",
       "  <tbody>\n",
       "    <tr>\n",
       "      <th>0</th>\n",
       "      <td>Abies bifolia</td>\n",
       "      <td>532</td>\n",
       "      <td>0.0</td>\n",
       "    </tr>\n",
       "    <tr>\n",
       "      <th>1</th>\n",
       "      <td>Abies concolor</td>\n",
       "      <td>630</td>\n",
       "      <td>0.0</td>\n",
       "    </tr>\n",
       "    <tr>\n",
       "      <th>2</th>\n",
       "      <td>Abies fraseri</td>\n",
       "      <td>518</td>\n",
       "      <td>1.0</td>\n",
       "    </tr>\n",
       "    <tr>\n",
       "      <th>3</th>\n",
       "      <td>Abietinella abietina</td>\n",
       "      <td>592</td>\n",
       "      <td>0.0</td>\n",
       "    </tr>\n",
       "    <tr>\n",
       "      <th>4</th>\n",
       "      <td>Abronia ammophila</td>\n",
       "      <td>523</td>\n",
       "      <td>1.0</td>\n",
       "    </tr>\n",
       "  </tbody>\n",
       "</table>\n",
       "</div>"
      ],
      "text/plain": [
       "        scientific_name  observations  concern_index\n",
       "0         Abies bifolia           532            0.0\n",
       "1        Abies concolor           630            0.0\n",
       "2         Abies fraseri           518            1.0\n",
       "3  Abietinella abietina           592            0.0\n",
       "4     Abronia ammophila           523            1.0"
      ]
     },
     "execution_count": 25,
     "metadata": {},
     "output_type": "execute_result"
    }
   ],
   "source": [
    "obs_index_df = pd.merge(obs_df, index_df)\n",
    "obs_index_df.head()"
   ]
  },
  {
   "cell_type": "code",
   "execution_count": 26,
   "metadata": {},
   "outputs": [
    {
     "data": {
      "text/html": [
       "<div>\n",
       "<style scoped>\n",
       "    .dataframe tbody tr th:only-of-type {\n",
       "        vertical-align: middle;\n",
       "    }\n",
       "\n",
       "    .dataframe tbody tr th {\n",
       "        vertical-align: top;\n",
       "    }\n",
       "\n",
       "    .dataframe thead th {\n",
       "        text-align: right;\n",
       "    }\n",
       "</style>\n",
       "<table border=\"1\" class=\"dataframe\">\n",
       "  <thead>\n",
       "    <tr style=\"text-align: right;\">\n",
       "      <th></th>\n",
       "      <th>scientific_name</th>\n",
       "      <th>category</th>\n",
       "      <th>observations</th>\n",
       "      <th>concern_index</th>\n",
       "    </tr>\n",
       "  </thead>\n",
       "  <tbody>\n",
       "    <tr>\n",
       "      <th>0</th>\n",
       "      <td>Abies bifolia</td>\n",
       "      <td>Vascular Plant</td>\n",
       "      <td>532</td>\n",
       "      <td>0.0</td>\n",
       "    </tr>\n",
       "    <tr>\n",
       "      <th>1</th>\n",
       "      <td>Abies concolor</td>\n",
       "      <td>Vascular Plant</td>\n",
       "      <td>630</td>\n",
       "      <td>0.0</td>\n",
       "    </tr>\n",
       "    <tr>\n",
       "      <th>2</th>\n",
       "      <td>Abies fraseri</td>\n",
       "      <td>Vascular Plant</td>\n",
       "      <td>518</td>\n",
       "      <td>1.0</td>\n",
       "    </tr>\n",
       "    <tr>\n",
       "      <th>3</th>\n",
       "      <td>Abietinella abietina</td>\n",
       "      <td>Nonvascular Plant</td>\n",
       "      <td>592</td>\n",
       "      <td>0.0</td>\n",
       "    </tr>\n",
       "    <tr>\n",
       "      <th>4</th>\n",
       "      <td>Abronia ammophila</td>\n",
       "      <td>Vascular Plant</td>\n",
       "      <td>523</td>\n",
       "      <td>1.0</td>\n",
       "    </tr>\n",
       "  </tbody>\n",
       "</table>\n",
       "</div>"
      ],
      "text/plain": [
       "        scientific_name           category  observations  concern_index\n",
       "0         Abies bifolia     Vascular Plant           532            0.0\n",
       "1        Abies concolor     Vascular Plant           630            0.0\n",
       "2         Abies fraseri     Vascular Plant           518            1.0\n",
       "3  Abietinella abietina  Nonvascular Plant           592            0.0\n",
       "4     Abronia ammophila     Vascular Plant           523            1.0"
      ]
     },
     "execution_count": 26,
     "metadata": {},
     "output_type": "execute_result"
    }
   ],
   "source": [
    "obs_index_cat_df = pd.merge(obs_index_df, species_df)\n",
    "obs_index_cat_df = obs_index_cat_df[['scientific_name', 'category','observations', 'concern_index']]\n",
    "obs_index_cat_df.head()"
   ]
  },
  {
   "cell_type": "code",
   "execution_count": 27,
   "metadata": {},
   "outputs": [
    {
     "name": "stdout",
     "output_type": "stream",
     "text": [
      "Pearson correlation coefficient: -0.20713310205111143\n"
     ]
    },
    {
     "data": {
      "text/plain": [
       "<Figure size 720x360 with 0 Axes>"
      ]
     },
     "metadata": {},
     "output_type": "display_data"
    },
    {
     "data": {
      "image/png": "[encoded data removed]",
      "text/plain": [
       "<Figure size 477.875x360 with 1 Axes>"
      ]
     },
     "metadata": {},
     "output_type": "display_data"
    }
   ],
   "source": [
    "# Plotting concern indexes vs observations\n",
    "\n",
    "# Style Set\n",
    "palette_2 = sns.color_palette('PRGn')\n",
    "sns.set_palette(palette_2)\n",
    "\n",
    "plt.figure(figsize = (10,5))\n",
    "ax = sns.lmplot(data = obs_index_cat_df, x = 'concern_index', y = 'observations', x_jitter = 0.2, y_jitter = 0.2, fit_reg = False, hue = 'category')\n",
    "plt.yscale('log')\n",
    "\n",
    "corr, p = pearsonr(obs_index_df.concern_index, np.log(obs_index_df.observations))\n",
    "print('Pearson correlation coefficient: {correlation}'.format(correlation = corr))"
   ]
  },
  {
   "cell_type": "markdown",
   "metadata": {},
   "source": [
    "<em> Conclusions </em>\n",
    "* When we plot number of observations made of one species against the concern index, we can see the expected trend that the less observations are made, the higher the concern index of the species. However, there are some outliers, which will be investigated further.\n",
    "* The pearson coefficient was calculated and reflected the inverse proportionality between the variables as expected, but the modulus of the pearson coefficient have shown a relatively weak correlation as data is spread in clusters, even when logarithmic scale is chosen for the y-axis."
   ]
  },
  {
   "cell_type": "code",
   "execution_count": 28,
   "metadata": {},
   "outputs": [
    {
     "data": {
      "text/html": [
       "<div>\n",
       "<style scoped>\n",
       "    .dataframe tbody tr th:only-of-type {\n",
       "        vertical-align: middle;\n",
       "    }\n",
       "\n",
       "    .dataframe tbody tr th {\n",
       "        vertical-align: top;\n",
       "    }\n",
       "\n",
       "    .dataframe thead th {\n",
       "        text-align: right;\n",
       "    }\n",
       "</style>\n",
       "<table border=\"1\" class=\"dataframe\">\n",
       "  <thead>\n",
       "    <tr style=\"text-align: right;\">\n",
       "      <th></th>\n",
       "      <th>scientific_name</th>\n",
       "      <th>observations</th>\n",
       "      <th>concern_index</th>\n",
       "    </tr>\n",
       "  </thead>\n",
       "  <tbody>\n",
       "    <tr>\n",
       "      <th>239</th>\n",
       "      <td>Anaxyrus canorus</td>\n",
       "      <td>274</td>\n",
       "      <td>3.000000</td>\n",
       "    </tr>\n",
       "    <tr>\n",
       "      <th>804</th>\n",
       "      <td>Canis lupus</td>\n",
       "      <td>2145</td>\n",
       "      <td>3.333333</td>\n",
       "    </tr>\n",
       "    <tr>\n",
       "      <th>805</th>\n",
       "      <td>Canis rufus</td>\n",
       "      <td>137</td>\n",
       "      <td>4.000000</td>\n",
       "    </tr>\n",
       "    <tr>\n",
       "      <th>1206</th>\n",
       "      <td>Chasmistes liorus</td>\n",
       "      <td>146</td>\n",
       "      <td>4.000000</td>\n",
       "    </tr>\n",
       "    <tr>\n",
       "      <th>1961</th>\n",
       "      <td>Erimonax monachus</td>\n",
       "      <td>242</td>\n",
       "      <td>3.000000</td>\n",
       "    </tr>\n",
       "    <tr>\n",
       "      <th>2030</th>\n",
       "      <td>Etheostoma percnurum</td>\n",
       "      <td>166</td>\n",
       "      <td>4.000000</td>\n",
       "    </tr>\n",
       "    <tr>\n",
       "      <th>2273</th>\n",
       "      <td>Geum radiatum</td>\n",
       "      <td>162</td>\n",
       "      <td>4.000000</td>\n",
       "    </tr>\n",
       "    <tr>\n",
       "      <th>2292</th>\n",
       "      <td>Glaucomys sabrinus coloratus</td>\n",
       "      <td>153</td>\n",
       "      <td>4.000000</td>\n",
       "    </tr>\n",
       "    <tr>\n",
       "      <th>2323</th>\n",
       "      <td>Grus americana</td>\n",
       "      <td>131</td>\n",
       "      <td>4.000000</td>\n",
       "    </tr>\n",
       "    <tr>\n",
       "      <th>2328</th>\n",
       "      <td>Gymnogyps californianus</td>\n",
       "      <td>156</td>\n",
       "      <td>4.000000</td>\n",
       "    </tr>\n",
       "    <tr>\n",
       "      <th>2607</th>\n",
       "      <td>Isotria medeoloides</td>\n",
       "      <td>274</td>\n",
       "      <td>3.000000</td>\n",
       "    </tr>\n",
       "    <tr>\n",
       "      <th>3319</th>\n",
       "      <td>Myotis grisescens</td>\n",
       "      <td>160</td>\n",
       "      <td>4.000000</td>\n",
       "    </tr>\n",
       "    <tr>\n",
       "      <th>3323</th>\n",
       "      <td>Myotis septentrionalis</td>\n",
       "      <td>302</td>\n",
       "      <td>3.000000</td>\n",
       "    </tr>\n",
       "    <tr>\n",
       "      <th>3324</th>\n",
       "      <td>Myotis sodalis</td>\n",
       "      <td>145</td>\n",
       "      <td>4.000000</td>\n",
       "    </tr>\n",
       "    <tr>\n",
       "      <th>3394</th>\n",
       "      <td>Noturus baileyi</td>\n",
       "      <td>143</td>\n",
       "      <td>4.000000</td>\n",
       "    </tr>\n",
       "    <tr>\n",
       "      <th>3395</th>\n",
       "      <td>Noturus flavipinnis</td>\n",
       "      <td>289</td>\n",
       "      <td>3.000000</td>\n",
       "    </tr>\n",
       "    <tr>\n",
       "      <th>3428</th>\n",
       "      <td>Oncorhynchus clarkii henshawi</td>\n",
       "      <td>301</td>\n",
       "      <td>3.000000</td>\n",
       "    </tr>\n",
       "    <tr>\n",
       "      <th>3492</th>\n",
       "      <td>Ovis canadensis sierrae</td>\n",
       "      <td>153</td>\n",
       "      <td>4.000000</td>\n",
       "    </tr>\n",
       "    <tr>\n",
       "      <th>3778</th>\n",
       "      <td>Picoides borealis</td>\n",
       "      <td>146</td>\n",
       "      <td>4.000000</td>\n",
       "    </tr>\n",
       "    <tr>\n",
       "      <th>4243</th>\n",
       "      <td>Rana draytonii</td>\n",
       "      <td>290</td>\n",
       "      <td>3.000000</td>\n",
       "    </tr>\n",
       "    <tr>\n",
       "      <th>4247</th>\n",
       "      <td>Rana sierrae</td>\n",
       "      <td>144</td>\n",
       "      <td>4.000000</td>\n",
       "    </tr>\n",
       "    <tr>\n",
       "      <th>4921</th>\n",
       "      <td>Spiraea virginiana</td>\n",
       "      <td>278</td>\n",
       "      <td>3.000000</td>\n",
       "    </tr>\n",
       "    <tr>\n",
       "      <th>5303</th>\n",
       "      <td>Ursus arctos horribilis</td>\n",
       "      <td>276</td>\n",
       "      <td>3.000000</td>\n",
       "    </tr>\n",
       "    <tr>\n",
       "      <th>5356</th>\n",
       "      <td>Vermivora bachmanii</td>\n",
       "      <td>141</td>\n",
       "      <td>4.000000</td>\n",
       "    </tr>\n",
       "  </tbody>\n",
       "</table>\n",
       "</div>"
      ],
      "text/plain": [
       "                    scientific_name  observations  concern_index\n",
       "239                Anaxyrus canorus           274       3.000000\n",
       "804                     Canis lupus          2145       3.333333\n",
       "805                     Canis rufus           137       4.000000\n",
       "1206              Chasmistes liorus           146       4.000000\n",
       "1961              Erimonax monachus           242       3.000000\n",
       "2030           Etheostoma percnurum           166       4.000000\n",
       "2273                  Geum radiatum           162       4.000000\n",
       "2292   Glaucomys sabrinus coloratus           153       4.000000\n",
       "2323                 Grus americana           131       4.000000\n",
       "2328        Gymnogyps californianus           156       4.000000\n",
       "2607            Isotria medeoloides           274       3.000000\n",
       "3319              Myotis grisescens           160       4.000000\n",
       "3323         Myotis septentrionalis           302       3.000000\n",
       "3324                 Myotis sodalis           145       4.000000\n",
       "3394                Noturus baileyi           143       4.000000\n",
       "3395            Noturus flavipinnis           289       3.000000\n",
       "3428  Oncorhynchus clarkii henshawi           301       3.000000\n",
       "3492        Ovis canadensis sierrae           153       4.000000\n",
       "3778              Picoides borealis           146       4.000000\n",
       "4243                 Rana draytonii           290       3.000000\n",
       "4247                   Rana sierrae           144       4.000000\n",
       "4921             Spiraea virginiana           278       3.000000\n",
       "5303        Ursus arctos horribilis           276       3.000000\n",
       "5356            Vermivora bachmanii           141       4.000000"
      ]
     },
     "execution_count": 28,
     "metadata": {},
     "output_type": "execute_result"
    }
   ],
   "source": [
    "# Listing the most vulnerable species\n",
    "obs_index_df[obs_index_df.concern_index >= 3]"
   ]
  },
  {
   "cell_type": "code",
   "execution_count": 29,
   "metadata": {},
   "outputs": [
    {
     "data": {
      "text/html": [
       "<div>\n",
       "<style scoped>\n",
       "    .dataframe tbody tr th:only-of-type {\n",
       "        vertical-align: middle;\n",
       "    }\n",
       "\n",
       "    .dataframe tbody tr th {\n",
       "        vertical-align: top;\n",
       "    }\n",
       "\n",
       "    .dataframe thead th {\n",
       "        text-align: right;\n",
       "    }\n",
       "</style>\n",
       "<table border=\"1\" class=\"dataframe\">\n",
       "  <thead>\n",
       "    <tr style=\"text-align: right;\">\n",
       "      <th></th>\n",
       "      <th>scientific_name</th>\n",
       "      <th>conservation_status</th>\n",
       "    </tr>\n",
       "  </thead>\n",
       "  <tbody>\n",
       "    <tr>\n",
       "      <th>8</th>\n",
       "      <td>Canis lupus</td>\n",
       "      <td>Endangered</td>\n",
       "    </tr>\n",
       "    <tr>\n",
       "      <th>3020</th>\n",
       "      <td>Canis lupus</td>\n",
       "      <td>In Recovery</td>\n",
       "    </tr>\n",
       "    <tr>\n",
       "      <th>4448</th>\n",
       "      <td>Canis lupus</td>\n",
       "      <td>Endangered</td>\n",
       "    </tr>\n",
       "  </tbody>\n",
       "</table>\n",
       "</div>"
      ],
      "text/plain": [
       "     scientific_name conservation_status\n",
       "8        Canis lupus          Endangered\n",
       "3020     Canis lupus         In Recovery\n",
       "4448     Canis lupus          Endangered"
      ]
     },
     "execution_count": 29,
     "metadata": {},
     "output_type": "execute_result"
    }
   ],
   "source": [
    "species_df[['scientific_name', 'conservation_status']][species_df.scientific_name == 'Canis lupus']"
   ]
  },
  {
   "cell_type": "code",
   "execution_count": 30,
   "metadata": {},
   "outputs": [
    {
     "data": {
      "text/html": [
       "<div>\n",
       "<style scoped>\n",
       "    .dataframe tbody tr th:only-of-type {\n",
       "        vertical-align: middle;\n",
       "    }\n",
       "\n",
       "    .dataframe tbody tr th {\n",
       "        vertical-align: top;\n",
       "    }\n",
       "\n",
       "    .dataframe thead th {\n",
       "        text-align: right;\n",
       "    }\n",
       "</style>\n",
       "<table border=\"1\" class=\"dataframe\">\n",
       "  <thead>\n",
       "    <tr style=\"text-align: right;\">\n",
       "      <th></th>\n",
       "      <th>scientific_name</th>\n",
       "      <th>observations</th>\n",
       "      <th>concern_index</th>\n",
       "    </tr>\n",
       "  </thead>\n",
       "  <tbody>\n",
       "    <tr>\n",
       "      <th>3430</th>\n",
       "      <td>Oncorhynchus mykiss</td>\n",
       "      <td>1626</td>\n",
       "      <td>1.5</td>\n",
       "    </tr>\n",
       "  </tbody>\n",
       "</table>\n",
       "</div>"
      ],
      "text/plain": [
       "          scientific_name  observations  concern_index\n",
       "3430  Oncorhynchus mykiss          1626            1.5"
      ]
     },
     "execution_count": 30,
     "metadata": {},
     "output_type": "execute_result"
    }
   ],
   "source": [
    "# There is a kind of fish which also has two different concern statuses\n",
    "obs_index_df[obs_index_df.concern_index == 1.5]"
   ]
  },
  {
   "cell_type": "code",
   "execution_count": 31,
   "metadata": {},
   "outputs": [
    {
     "data": {
      "text/html": [
       "<div>\n",
       "<style scoped>\n",
       "    .dataframe tbody tr th:only-of-type {\n",
       "        vertical-align: middle;\n",
       "    }\n",
       "\n",
       "    .dataframe tbody tr th {\n",
       "        vertical-align: top;\n",
       "    }\n",
       "\n",
       "    .dataframe thead th {\n",
       "        text-align: right;\n",
       "    }\n",
       "</style>\n",
       "<table border=\"1\" class=\"dataframe\">\n",
       "  <thead>\n",
       "    <tr style=\"text-align: right;\">\n",
       "      <th></th>\n",
       "      <th>scientific_name</th>\n",
       "      <th>conservation_status</th>\n",
       "      <th>category</th>\n",
       "    </tr>\n",
       "  </thead>\n",
       "  <tbody>\n",
       "    <tr>\n",
       "      <th>560</th>\n",
       "      <td>Oncorhynchus mykiss</td>\n",
       "      <td>No Concern</td>\n",
       "      <td>Fish</td>\n",
       "    </tr>\n",
       "    <tr>\n",
       "      <th>3283</th>\n",
       "      <td>Oncorhynchus mykiss</td>\n",
       "      <td>Threatened</td>\n",
       "      <td>Fish</td>\n",
       "    </tr>\n",
       "  </tbody>\n",
       "</table>\n",
       "</div>"
      ],
      "text/plain": [
       "          scientific_name conservation_status category\n",
       "560   Oncorhynchus mykiss          No Concern     Fish\n",
       "3283  Oncorhynchus mykiss          Threatened     Fish"
      ]
     },
     "execution_count": 31,
     "metadata": {},
     "output_type": "execute_result"
    }
   ],
   "source": [
    "species_df[['scientific_name', 'conservation_status','category']][species_df.scientific_name == 'Oncorhynchus mykiss']"
   ]
  },
  {
   "cell_type": "markdown",
   "metadata": {},
   "source": [
    "<em> Conclusions </em>\n",
    "* The vast majority of the species that hava high concern indexes have small observation numbers;\n",
    "* Clearly, Canis Lupus ('Gray Wolf') is an outlier. More data and a better understanding of the peculiarities of this species are needed to better understand why it is considered an endangered species\n",
    "* In species_df there are 3 different entries for Canis Lupus, with two different conservation statuses . That's why the average concern_index for this species is not an integer.\n",
    "* Canis Lupus and Oncorhynchus mykiss are two species which have at least two different concern statuses, curiously. Maybe considering two different habitats / parks"
   ]
  },
  {
   "cell_type": "markdown",
   "metadata": {},
   "source": [
    "### How the Category of th Species relates to the Number of Observations"
   ]
  },
  {
   "cell_type": "markdown",
   "metadata": {},
   "source": [
    "Now the investigation aims at analyzing it there is a trend in the number of observations and the category the species represent."
   ]
  },
  {
   "cell_type": "code",
   "execution_count": 32,
   "metadata": {},
   "outputs": [
    {
     "data": {
      "text/html": [
       "<div>\n",
       "<style scoped>\n",
       "    .dataframe tbody tr th:only-of-type {\n",
       "        vertical-align: middle;\n",
       "    }\n",
       "\n",
       "    .dataframe tbody tr th {\n",
       "        vertical-align: top;\n",
       "    }\n",
       "\n",
       "    .dataframe thead th {\n",
       "        text-align: right;\n",
       "    }\n",
       "</style>\n",
       "<table border=\"1\" class=\"dataframe\">\n",
       "  <thead>\n",
       "    <tr style=\"text-align: right;\">\n",
       "      <th></th>\n",
       "      <th>category</th>\n",
       "      <th>observations</th>\n",
       "    </tr>\n",
       "  </thead>\n",
       "  <tbody>\n",
       "    <tr>\n",
       "      <th>0</th>\n",
       "      <td>Amphibian</td>\n",
       "      <td>45068</td>\n",
       "    </tr>\n",
       "    <tr>\n",
       "      <th>1</th>\n",
       "      <td>Bird</td>\n",
       "      <td>332371</td>\n",
       "    </tr>\n",
       "    <tr>\n",
       "      <th>2</th>\n",
       "      <td>Fish</td>\n",
       "      <td>72901</td>\n",
       "    </tr>\n",
       "    <tr>\n",
       "      <th>3</th>\n",
       "      <td>Mammal</td>\n",
       "      <td>163120</td>\n",
       "    </tr>\n",
       "    <tr>\n",
       "      <th>4</th>\n",
       "      <td>Nonvascular Plant</td>\n",
       "      <td>190653</td>\n",
       "    </tr>\n",
       "    <tr>\n",
       "      <th>5</th>\n",
       "      <td>Reptile</td>\n",
       "      <td>45822</td>\n",
       "    </tr>\n",
       "    <tr>\n",
       "      <th>6</th>\n",
       "      <td>Vascular Plant</td>\n",
       "      <td>2795312</td>\n",
       "    </tr>\n",
       "  </tbody>\n",
       "</table>\n",
       "</div>"
      ],
      "text/plain": [
       "            category  observations\n",
       "0          Amphibian         45068\n",
       "1               Bird        332371\n",
       "2               Fish         72901\n",
       "3             Mammal        163120\n",
       "4  Nonvascular Plant        190653\n",
       "5            Reptile         45822\n",
       "6     Vascular Plant       2795312"
      ]
     },
     "execution_count": 32,
     "metadata": {},
     "output_type": "execute_result"
    }
   ],
   "source": [
    "# Ploting Aggregate Number of Observations for each Category\n",
    "cat_obs_df = compound_df.groupby('category').observations.sum().reset_index()\n",
    "cat_obs_df"
   ]
  },
  {
   "cell_type": "code",
   "execution_count": 33,
   "metadata": {},
   "outputs": [
    {
     "data": {
      "image/png": "[encoded data removed]",
      "text/plain": [
       "<Figure size 1152x360 with 1 Axes>"
      ]
     },
     "metadata": {},
     "output_type": "display_data"
    }
   ],
   "source": [
    "sns.set_palette(palette_1)\n",
    "plt.figure(figsize = (16,5))\n",
    "ax = sns.barplot(data = cat_obs_df, x = 'category', y = 'observations')\n",
    "ax.set_xlabel('Category')\n",
    "ax.set_ylabel('Observations')\n",
    "ax.set_title('Number of Observations per Category')\n",
    "plt.yscale('log')"
   ]
  },
  {
   "cell_type": "code",
   "execution_count": 34,
   "metadata": {},
   "outputs": [
    {
     "name": "stdout",
     "output_type": "stream",
     "text": [
      "            category  scientific_name\n",
      "0          Amphibian               79\n",
      "1               Bird              488\n",
      "2               Fish              125\n",
      "3             Mammal              176\n",
      "4  Nonvascular Plant              333\n",
      "5            Reptile               78\n",
      "6     Vascular Plant             4262\n",
      "\n",
      "            category  number_of_species  observations\n",
      "0          Amphibian                 79         45068\n",
      "1               Bird                488        332371\n",
      "2               Fish                125         72901\n",
      "3             Mammal                176        163120\n",
      "4  Nonvascular Plant                333        190653\n",
      "5            Reptile                 78         45822\n",
      "6     Vascular Plant               4262       2795312\n"
     ]
    }
   ],
   "source": [
    "# Correlation between number of observations and number of different species\n",
    "cat_count_df = compound_df.groupby('category').scientific_name.nunique().reset_index()\n",
    "print(cat_count_df)\n",
    "cat_obs_df = pd.merge(cat_count_df, cat_obs_df)\n",
    "cat_obs_df.rename(columns = {'scientific_name': 'number_of_species'}, inplace = True)\n",
    "print()\n",
    "print(cat_obs_df)"
   ]
  },
  {
   "cell_type": "code",
   "execution_count": 35,
   "metadata": {},
   "outputs": [
    {
     "name": "stdout",
     "output_type": "stream",
     "text": [
      "            category  number_of_species  observations     avg_obs\n",
      "0          Amphibian                 79         45068  570.481013\n",
      "1               Bird                488        332371  681.088115\n",
      "2               Fish                125         72901  583.208000\n",
      "3             Mammal                176        163120  926.818182\n",
      "4  Nonvascular Plant                333        190653  572.531532\n",
      "5            Reptile                 78         45822  587.461538\n",
      "6     Vascular Plant               4262       2795312  655.868606\n"
     ]
    },
    {
     "data": {
      "text/plain": [
       "Text(0.5, 1.0, 'Average Number of Observations per Species, per Category')"
      ]
     },
     "execution_count": 35,
     "metadata": {},
     "output_type": "execute_result"
    },
    {
     "data": {
      "image/png": "[encoded data removed]",
      "text/plain": [
       "<Figure size 1152x360 with 1 Axes>"
      ]
     },
     "metadata": {},
     "output_type": "display_data"
    }
   ],
   "source": [
    "# Ploting Average number of Observation per Species in each Category\n",
    "cat_obs_df['avg_obs'] = cat_obs_df['observations'] / cat_obs_df['number_of_species']\n",
    "print(cat_obs_df)\n",
    "plt.figure(figsize = (16,5))\n",
    "ax = sns.barplot(data = cat_obs_df, x = 'category', y = 'avg_obs', )\n",
    "ax.set_xlabel('Category')\n",
    "ax.set_ylabel('Average Number of Observations per Species')\n",
    "ax.set_title('Average Number of Observations per Species, per Category')"
   ]
  },
  {
   "cell_type": "code",
   "execution_count": 36,
   "metadata": {},
   "outputs": [
    {
     "name": "stdout",
     "output_type": "stream",
     "text": [
      "Pearson correlation coefficient: 0.9997267505564149\n"
     ]
    },
    {
     "data": {
      "text/plain": [
       "<Figure size 720x360 with 0 Axes>"
      ]
     },
     "metadata": {},
     "output_type": "display_data"
    },
    {
     "data": {
      "image/png": "[encoded data removed]",
      "text/plain": [
       "<Figure size 360x360 with 1 Axes>"
      ]
     },
     "metadata": {},
     "output_type": "display_data"
    }
   ],
   "source": [
    "# Correlation Plot\n",
    "sns.set_palette(palette_2)\n",
    "plt.figure(figsize = (10,5))\n",
    "ax = sns.lmplot(data = cat_obs_df, x = 'number_of_species', y = 'observations')\n",
    "plt.title('Number of Species vs Observations')\n",
    "plt.xlabel('Number of Species in Category')\n",
    "plt.ylabel('Number of Observations')\n",
    "\n",
    "corr, p = pearsonr(cat_obs_df.number_of_species, cat_obs_df.observations)\n",
    "print('Pearson correlation coefficient: {correlation}'.format(correlation = corr))"
   ]
  },
  {
   "cell_type": "code",
   "execution_count": 37,
   "metadata": {},
   "outputs": [
    {
     "name": "stdout",
     "output_type": "stream",
     "text": [
      "656.968559361802\n"
     ]
    }
   ],
   "source": [
    "# Approximate linear fir angular coefficient\n",
    "prop_const = 2.8e6 / 4262\n",
    "print(prop_const)"
   ]
  },
  {
   "cell_type": "markdown",
   "metadata": {},
   "source": [
    "<em> Conclusions </em>\n",
    "* There is a very strong correlation between number of observations and number of different species in each category (a one to one relationship, we might say), exactly what was expected since the more biodiversity one has, the more observations are likely to be made. So the number of observations are a strong indicative for biodiversity, in this context.\n",
    "* This correlation study, although arguably superfluous, was considered important to the author since confirms that the number of observations is tied to the biodiversity (number of species) among categories, so that no category is significantly over or underpopulated in the parks (this behavior would show up if the points representing the categories were far away from the fit line);\n",
    "* The constant of proportionality between number of observations and number of species within a category is approximately 657 (which can be thought the average number of observations per species, averaged for the different categories)."
   ]
  },
  {
   "cell_type": "markdown",
   "metadata": {},
   "source": [
    "***"
   ]
  },
  {
   "cell_type": "markdown",
   "metadata": {},
   "source": [
    "### Revisiting the Correlation between Number of Observations and Concern Index"
   ]
  },
  {
   "cell_type": "markdown",
   "metadata": {},
   "source": [
    "Now we try a different approach, plotting the average number of observations for each individual concern index, for each category, but dividing by the average number of observations within a category."
   ]
  },
  {
   "cell_type": "code",
   "execution_count": 38,
   "metadata": {},
   "outputs": [
    {
     "name": "stdout",
     "output_type": "stream",
     "text": [
      "   concern_index  observations\n",
      "0            0.0      1.068793\n",
      "1            1.0      0.895735\n",
      "2            3.0      0.494320\n",
      "3            4.0      0.252419\n",
      "Pearson correlation coefficient: -0.9985492564457213\n",
      "   concern_index  observations\n",
      "0            0.0      1.220322\n",
      "1            1.0      0.999014\n",
      "2            2.0      0.681263\n",
      "3            4.0      0.210692\n",
      "Pearson correlation coefficient: -0.9982430160074347\n",
      "   concern_index  observations\n",
      "0            0.0      1.049950\n",
      "1            1.0      0.904051\n",
      "2            1.5      2.788028\n",
      "3            3.0      0.475531\n",
      "4            4.0      0.260056\n",
      "Pearson correlation coefficient: -0.4476994771417036\n",
      "   concern_index  observations\n",
      "0       0.000000      1.371285\n",
      "1       1.000000      1.514513\n",
      "2       3.000000      0.311820\n",
      "3       3.333333      2.314370\n",
      "4       4.000000      0.161412\n",
      "Pearson correlation coefficient: -0.3381429002612849\n",
      "   concern_index  observations\n",
      "0            0.0      1.000840\n",
      "1            1.0      0.944926\n",
      "Pearson correlation coefficient: -1.0\n",
      "   concern_index  observations\n",
      "0            0.0      1.048349\n",
      "1            1.0      0.863376\n",
      "Pearson correlation coefficient: -1.0\n",
      "   concern_index  observations\n",
      "0            0.0      1.123500\n",
      "1            1.0      0.784864\n",
      "2            3.0      0.420816\n",
      "3            4.0      0.247001\n",
      "Pearson correlation coefficient: -0.9901149061151016\n"
     ]
    },
    {
     "data": {
      "image/png": "[encoded data removed]",
      "text/plain": [
       "<Figure size 1152x576 with 7 Axes>"
      ]
     },
     "metadata": {},
     "output_type": "display_data"
    }
   ],
   "source": [
    "# Looking at the average number of observations (normalized by the average number of observations of the species category) for each concern index and category)\n",
    "plt.figure(figsize = (16,8))\n",
    "categories = cat_obs_df.category.tolist()\n",
    "avgs = cat_obs_df.avg_obs.tolist()\n",
    "df_list = []\n",
    "for i in range(len(categories)):\n",
    "    obs_index_avg_df = obs_index_cat_df[obs_index_cat_df.category == categories[i]].groupby('concern_index').observations.mean().reset_index()\n",
    "    obs_index_avg_df.observations = obs_index_avg_df.observations / (avgs[i])\n",
    "    df_list.append(obs_index_avg_df)\n",
    "    print(obs_index_avg_df)\n",
    "    plt.subplot(2,4, i + 1)\n",
    "    plt.scatter(obs_index_avg_df.concern_index, obs_index_avg_df.observations)\n",
    "    plt.title(categories[i])\n",
    "    plt.xlabel('Concern Index')\n",
    "    plt.ylabel('Normalized Number of Observations')\n",
    "    plt.subplots_adjust(hspace = 0.4, wspace = 0.4)\n",
    "    corr, p = pearsonr(obs_index_avg_df.concern_index, obs_index_avg_df.observations)\n",
    "    print('Pearson correlation coefficient: {correlation}'.format(correlation = corr))"
   ]
  },
  {
   "cell_type": "markdown",
   "metadata": {},
   "source": [
    "<em> Conclusions </em>\n",
    "* When we plot the sum of observations (divided by the number of species) for each concern index, for each category separately, we start to see a pattern with stronger correlation, as can be seen by the pearson coefficients calculated.\n",
    "* Maybe these plots could be used by a predictive model which, when fed with the number of observations of a species and its category, would output the expected concern index\n",
    "* There are some outlier points (identificated as the ones representing the outlier species, 'Canis lupus' and 'Oncorhynchus mykiss'), which have to be removed for better fit"
   ]
  },
  {
   "cell_type": "code",
   "execution_count": 39,
   "metadata": {},
   "outputs": [
    {
     "name": "stdout",
     "output_type": "stream",
     "text": [
      "   concern_index  observations\n",
      "0            0.0      1.049950\n",
      "1            1.0      0.904051\n",
      "3            3.0      0.475531\n",
      "4            4.0      0.260056\n"
     ]
    }
   ],
   "source": [
    "# Dropping the outliers ('Oncorhynchus mykiss')\n",
    "df_list[2] = df_list[2].drop(df_list[2].index[2])\n",
    "print(df_list[2])"
   ]
  },
  {
   "cell_type": "code",
   "execution_count": 40,
   "metadata": {},
   "outputs": [
    {
     "name": "stdout",
     "output_type": "stream",
     "text": [
      "   concern_index  observations\n",
      "0            0.0      1.371285\n",
      "1            1.0      1.514513\n",
      "2            3.0      0.311820\n",
      "4            4.0      0.161412\n"
     ]
    }
   ],
   "source": [
    "# Dropping the outliers ('Canis lupus')\n",
    "df_list[3] = df_list[3].drop(df_list[3].index[3])\n",
    "print(df_list[3])"
   ]
  },
  {
   "cell_type": "code",
   "execution_count": 41,
   "metadata": {},
   "outputs": [
    {
     "name": "stdout",
     "output_type": "stream",
     "text": [
      "Amphibian's Pearson correlation coefficient: -0.9985492564457213\n",
      "Bird's Pearson correlation coefficient: -0.9982430160074347\n",
      "Fish's Pearson correlation coefficient: -0.9979471124616371\n",
      "Mammal's Pearson correlation coefficient: -0.9426636684689771\n",
      "Nonvascular Plant's Pearson correlation coefficient: -1.0\n",
      "Reptile's Pearson correlation coefficient: -1.0\n",
      "Vascular Plant's Pearson correlation coefficient: -0.9901149061151016\n"
     ]
    },
    {
     "data": {
      "image/png": "[encoded data removed]",
      "text/plain": [
       "<Figure size 1152x576 with 7 Axes>"
      ]
     },
     "metadata": {},
     "output_type": "display_data"
    }
   ],
   "source": [
    "plt.figure(figsize = (16,8))\n",
    "for i in range(len(df_list)):\n",
    "    plt.subplot(2,4,i + 1)\n",
    "    plt.scatter(df_list[i].observations, df_list[i].concern_index)\n",
    "    plt.title(categories[i])\n",
    "    plt.xlabel('Normalized Number of Observations')\n",
    "    plt.ylabel('Concern Index')\n",
    "    plt.subplots_adjust(hspace = 0.4, wspace = 0.4)\n",
    "    corr, p = pearsonr(df_list[i].observations, df_list[i].concern_index)\n",
    "    print(\"{cat}'s Pearson correlation coefficient: {correlation}\".format(cat = categories[i], correlation = corr))\n"
   ]
  },
  {
   "cell_type": "markdown",
   "metadata": {},
   "source": [
    "<em> Conclusions </em>\n",
    "* Now we have plots (average number of observations, normalized, by concer_index, for each category) with very strong correlation\n",
    "* Maybe they can be used to predict concern index based on number of observations of a test species within a category"
   ]
  },
  {
   "cell_type": "markdown",
   "metadata": {},
   "source": [
    "***"
   ]
  },
  {
   "cell_type": "markdown",
   "metadata": {},
   "source": [
    "## Conclusions"
   ]
  },
  {
   "cell_type": "markdown",
   "metadata": {},
   "source": [
    "After analyzing data, some conclusions were made:\n",
    "\n",
    "1) The study have shown a relatively small proportion of species which present conservation concern statuses, when taking into account the overall population and all species together (absolute terms);\n",
    "\n",
    "2) When viewed by the relative point of view, however, the picture is somehow different: mammals and birds have a relatively large share of their species (17.8% and 15.2% respectively) in concern conditions. Other categories, such as amphibians, reptiles and fish, present intermediate proportions of their species in concern conditions (6-8%). Both plant categories have contribute to the vast majority of the species in the study, but proportionaly present the smaller proportions of species in concern conditions;\n",
    "\n",
    "3) With the intention of detecting categories which present the most vulnerability, an index was created, called <em>'concern index'</em>, which averages the contribution of the different concern statuses of the species of a particular category (concern status is a categorical variable, but can be transformed into an ordinal variable because there is an implicit order of threat in its classification);\n",
    "\n",
    "4) The comparison between the concern indexes of the different kinds of categories have outlined categories which were not on the spot before: amphibian and fish. These categories have intermediate shares of concerned species, but when taking into account the severity of the concern statuses (concern indexes), they stand out. This can be explained by a relatively large share of their concerned species presenting threatened or endangered statuses. Both of these categories, together with Mammals, all present concern indexes above the average of the categories takes together. Fish and Amphibian categories have relatively small number of species as well, which is a fact embedded in the calculation of the concern index (which is an average of the concern indexes of all species within a category), so they are a real concern to the preservation of biodiversity. Despite having lower concern indexes than Fish and Amphibians, Mammals do present concern as well do to their large population and large share of concerned species;\n",
    "\n",
    "5) The study then focused on the correlation between number of observations and concern index. It may seem obvious that these two variables should be inversely proportional, but nevertheless an analysis was carried out and have shown that indeed they form a strong correlation pair (with negative correlation as expected) when the sum of observations within a level of concern index is taken as one of the variables;\n",
    "\n",
    "6) Last, with the intent of providing clarification for using this data to build a predictive model of conservation statuses of the species, an analysis was conducted to confirm that the number of observations is directly proportional to the number of different species contained within a single category (biodiversity of a single category). Although it may seem obvious, such assumption could be wrong if, for instance, a large number of observations was due not only to a larger biodiversity but could be a reflex of overpopulation of one or some species within the category. The analysis have shown that its not the case, and indeed a 'one to one' relationship exists between number of observations and number of species within a category,as can be deduced by the linear fit and pearson coefficient of the corresponding plot;"
   ]
  },
  {
   "cell_type": "markdown",
   "metadata": {},
   "source": [
    "## For Future Work"
   ]
  },
  {
   "cell_type": "markdown",
   "metadata": {},
   "source": [
    "As a future work, it would be interesting to come up with a predictive model which can point, based on the number of observations and the category of the species, how much vulnerable (taking as the scale a concern index) a certain species is.\n",
    "\n",
    "Maybe one way to achieve this is as follows:\n",
    "* 1) Count the number of observation for a test species (say, a fish with 200 observations);\n",
    "* 2) Divide the previous number by the average number of observations within the category (200 / 583 = 0,343)\n",
    "* 3) Plot the previous result in the x-axis of the fish plot, which would give a <em>concern index</em> between 3,0 and 3,5"
   ]
  },
  {
   "cell_type": "code",
   "execution_count": null,
   "metadata": {},
   "outputs": [],
   "source": []
  }
 ],
 "metadata": {
  "kernelspec": {
   "display_name": "Python 3 (ipykernel)",
   "language": "python",
   "name": "python3"
  },
  "language_info": {
   "codemirror_mode": {
    "name": "ipython",
    "version": 3
   },
   "file_extension": ".py",
   "mimetype": "text/x-python",
   "name": "python",
   "nbconvert_exporter": "python",
   "pygments_lexer": "ipython3",
   "version": "3.9.7"
  }
 },
 "nbformat": 4,
 "nbformat_minor": 4
}
